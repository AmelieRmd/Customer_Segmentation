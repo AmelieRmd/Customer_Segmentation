{
 "cells": [
  {
   "cell_type": "markdown",
   "id": "2c046c64",
   "metadata": {},
   "source": [
    "# Recency, Frequency, Monetary Value analysis"
   ]
  },
  {
   "cell_type": "markdown",
   "id": "b128577b",
   "metadata": {},
   "source": [
    "**Datacamp** : https://app.datacamp.com/learn/courses/customer-segmentation-in-python"
   ]
  },
  {
   "cell_type": "markdown",
   "id": "4f175763",
   "metadata": {},
   "source": [
    "**RFM segmentation**\n",
    "\n",
    "To do this, we are going to calculate three customer behavior metrics \n",
    "- Recency - which measures how recent was each customer's last purchase, \n",
    "- Frequency - which measures how many purchases the customer has done in the last 12 months, \n",
    "- MonetaryValue - measures how much has the customer spent in the last 12 months. \n",
    "\n",
    "We will use these values to assign customers to RFM segments."
   ]
  },
  {
   "cell_type": "markdown",
   "id": "a09eab44",
   "metadata": {},
   "source": [
    "**Grouping RFM values**\n",
    "\n",
    "Next step is to group them into some sort of categorization such as high, medium and low. There are multiple ways to do that. \n",
    "- We can break customers into groups of equal size based on percentile values of each metric \n",
    "- We can assign either high or low value to each metric based on a 80/20% Pareto split \n",
    "- Or we can use existing knowledge from previous business insights about certain threshold values for each metric \n"
   ]
  },
  {
   "cell_type": "markdown",
   "id": "b5a5f55b",
   "metadata": {
    "ExecuteTime": {
     "end_time": "2022-07-20T15:07:18.374500Z",
     "start_time": "2022-07-20T15:07:18.368987Z"
    }
   },
   "source": [
    "# Imports"
   ]
  },
  {
   "cell_type": "code",
   "execution_count": 2,
   "id": "a6a90119",
   "metadata": {
    "ExecuteTime": {
     "end_time": "2022-07-20T15:07:28.884611Z",
     "start_time": "2022-07-20T15:07:27.130988Z"
    }
   },
   "outputs": [],
   "source": [
    "import numpy as np\n",
    "import pandas as pd\n",
    "import matplotlib.pyplot as plt\n",
    "import seaborn as sns\n",
    "import datetime as dt"
   ]
  },
  {
   "cell_type": "markdown",
   "id": "c015c5d1",
   "metadata": {
    "heading_collapsed": true
   },
   "source": [
    "# RFM Segmentation"
   ]
  },
  {
   "cell_type": "markdown",
   "id": "8a09c19d",
   "metadata": {
    "hidden": true
   },
   "source": [
    "## Calculate percentile"
   ]
  },
  {
   "cell_type": "code",
   "execution_count": 11,
   "id": "568552e1",
   "metadata": {
    "ExecuteTime": {
     "end_time": "2022-07-20T15:18:29.418905Z",
     "start_time": "2022-07-20T15:18:29.402291Z"
    },
    "hidden": true
   },
   "outputs": [
    {
     "data": {
      "text/html": [
       "<div>\n",
       "<style scoped>\n",
       "    .dataframe tbody tr th:only-of-type {\n",
       "        vertical-align: middle;\n",
       "    }\n",
       "\n",
       "    .dataframe tbody tr th {\n",
       "        vertical-align: top;\n",
       "    }\n",
       "\n",
       "    .dataframe thead th {\n",
       "        text-align: right;\n",
       "    }\n",
       "</style>\n",
       "<table border=\"1\" class=\"dataframe\">\n",
       "  <thead>\n",
       "    <tr style=\"text-align: right;\">\n",
       "      <th></th>\n",
       "      <th>CustomerID</th>\n",
       "      <th>Spend</th>\n",
       "    </tr>\n",
       "  </thead>\n",
       "  <tbody>\n",
       "    <tr>\n",
       "      <th>0</th>\n",
       "      <td>0</td>\n",
       "      <td>137</td>\n",
       "    </tr>\n",
       "    <tr>\n",
       "      <th>1</th>\n",
       "      <td>1</td>\n",
       "      <td>335</td>\n",
       "    </tr>\n",
       "    <tr>\n",
       "      <th>2</th>\n",
       "      <td>2</td>\n",
       "      <td>172</td>\n",
       "    </tr>\n",
       "    <tr>\n",
       "      <th>3</th>\n",
       "      <td>3</td>\n",
       "      <td>355</td>\n",
       "    </tr>\n",
       "    <tr>\n",
       "      <th>4</th>\n",
       "      <td>4</td>\n",
       "      <td>303</td>\n",
       "    </tr>\n",
       "    <tr>\n",
       "      <th>5</th>\n",
       "      <td>5</td>\n",
       "      <td>233</td>\n",
       "    </tr>\n",
       "    <tr>\n",
       "      <th>6</th>\n",
       "      <td>6</td>\n",
       "      <td>244</td>\n",
       "    </tr>\n",
       "    <tr>\n",
       "      <th>7</th>\n",
       "      <td>7</td>\n",
       "      <td>229</td>\n",
       "    </tr>\n",
       "  </tbody>\n",
       "</table>\n",
       "</div>"
      ],
      "text/plain": [
       "   CustomerID  Spend\n",
       "0           0    137\n",
       "1           1    335\n",
       "2           2    172\n",
       "3           3    355\n",
       "4           4    303\n",
       "5           5    233\n",
       "6           6    244\n",
       "7           7    229"
      ]
     },
     "execution_count": 11,
     "metadata": {},
     "output_type": "execute_result"
    }
   ],
   "source": [
    "# Create a simple DF\n",
    "data = pd.DataFrame({'CustomerID': pd.Series(range(0,8)),\n",
    "                     'Spend': [137, 335, 172, 355, 303, 233, 244, 229]\n",
    "    \n",
    "})\n",
    "data"
   ]
  },
  {
   "cell_type": "code",
   "execution_count": 12,
   "id": "5bfc8433",
   "metadata": {
    "ExecuteTime": {
     "end_time": "2022-07-20T15:18:30.016644Z",
     "start_time": "2022-07-20T15:18:29.995740Z"
    },
    "hidden": true
   },
   "outputs": [
    {
     "data": {
      "text/html": [
       "<div>\n",
       "<style scoped>\n",
       "    .dataframe tbody tr th:only-of-type {\n",
       "        vertical-align: middle;\n",
       "    }\n",
       "\n",
       "    .dataframe tbody tr th {\n",
       "        vertical-align: top;\n",
       "    }\n",
       "\n",
       "    .dataframe thead th {\n",
       "        text-align: right;\n",
       "    }\n",
       "</style>\n",
       "<table border=\"1\" class=\"dataframe\">\n",
       "  <thead>\n",
       "    <tr style=\"text-align: right;\">\n",
       "      <th></th>\n",
       "      <th>CustomerID</th>\n",
       "      <th>Spend</th>\n",
       "      <th>Spend_Quartiles</th>\n",
       "    </tr>\n",
       "  </thead>\n",
       "  <tbody>\n",
       "    <tr>\n",
       "      <th>0</th>\n",
       "      <td>0</td>\n",
       "      <td>137</td>\n",
       "      <td>1</td>\n",
       "    </tr>\n",
       "    <tr>\n",
       "      <th>2</th>\n",
       "      <td>2</td>\n",
       "      <td>172</td>\n",
       "      <td>1</td>\n",
       "    </tr>\n",
       "    <tr>\n",
       "      <th>7</th>\n",
       "      <td>7</td>\n",
       "      <td>229</td>\n",
       "      <td>2</td>\n",
       "    </tr>\n",
       "    <tr>\n",
       "      <th>5</th>\n",
       "      <td>5</td>\n",
       "      <td>233</td>\n",
       "      <td>2</td>\n",
       "    </tr>\n",
       "    <tr>\n",
       "      <th>6</th>\n",
       "      <td>6</td>\n",
       "      <td>244</td>\n",
       "      <td>3</td>\n",
       "    </tr>\n",
       "    <tr>\n",
       "      <th>4</th>\n",
       "      <td>4</td>\n",
       "      <td>303</td>\n",
       "      <td>3</td>\n",
       "    </tr>\n",
       "    <tr>\n",
       "      <th>1</th>\n",
       "      <td>1</td>\n",
       "      <td>335</td>\n",
       "      <td>4</td>\n",
       "    </tr>\n",
       "    <tr>\n",
       "      <th>3</th>\n",
       "      <td>3</td>\n",
       "      <td>355</td>\n",
       "      <td>4</td>\n",
       "    </tr>\n",
       "  </tbody>\n",
       "</table>\n",
       "</div>"
      ],
      "text/plain": [
       "   CustomerID  Spend Spend_Quartiles\n",
       "0           0    137               1\n",
       "2           2    172               1\n",
       "7           7    229               2\n",
       "5           5    233               2\n",
       "6           6    244               3\n",
       "4           4    303               3\n",
       "1           1    335               4\n",
       "3           3    355               4"
      ]
     },
     "execution_count": 12,
     "metadata": {},
     "output_type": "execute_result"
    }
   ],
   "source": [
    "# Calculate percentile\n",
    "spend_quartiles = pd.qcut(x=data['Spend'], q=4, labels=range(1,5))\n",
    "data['Spend_Quartiles'] = spend_quartiles\n",
    "data.sort_values('Spend')"
   ]
  },
  {
   "cell_type": "markdown",
   "id": "5773c1b6",
   "metadata": {
    "hidden": true
   },
   "source": [
    "## Assigning labels"
   ]
  },
  {
   "cell_type": "code",
   "execution_count": 13,
   "id": "bbbcdee4",
   "metadata": {
    "ExecuteTime": {
     "end_time": "2022-07-20T15:19:22.903548Z",
     "start_time": "2022-07-20T15:19:22.886515Z"
    },
    "hidden": true
   },
   "outputs": [
    {
     "data": {
      "text/html": [
       "<div>\n",
       "<style scoped>\n",
       "    .dataframe tbody tr th:only-of-type {\n",
       "        vertical-align: middle;\n",
       "    }\n",
       "\n",
       "    .dataframe tbody tr th {\n",
       "        vertical-align: top;\n",
       "    }\n",
       "\n",
       "    .dataframe thead th {\n",
       "        text-align: right;\n",
       "    }\n",
       "</style>\n",
       "<table border=\"1\" class=\"dataframe\">\n",
       "  <thead>\n",
       "    <tr style=\"text-align: right;\">\n",
       "      <th></th>\n",
       "      <th>CustomerID</th>\n",
       "      <th>Recency_Days</th>\n",
       "    </tr>\n",
       "  </thead>\n",
       "  <tbody>\n",
       "    <tr>\n",
       "      <th>0</th>\n",
       "      <td>0</td>\n",
       "      <td>37</td>\n",
       "    </tr>\n",
       "    <tr>\n",
       "      <th>1</th>\n",
       "      <td>1</td>\n",
       "      <td>235</td>\n",
       "    </tr>\n",
       "    <tr>\n",
       "      <th>2</th>\n",
       "      <td>2</td>\n",
       "      <td>396</td>\n",
       "    </tr>\n",
       "    <tr>\n",
       "      <th>3</th>\n",
       "      <td>3</td>\n",
       "      <td>72</td>\n",
       "    </tr>\n",
       "    <tr>\n",
       "      <th>4</th>\n",
       "      <td>4</td>\n",
       "      <td>255</td>\n",
       "    </tr>\n",
       "    <tr>\n",
       "      <th>5</th>\n",
       "      <td>5</td>\n",
       "      <td>393</td>\n",
       "    </tr>\n",
       "    <tr>\n",
       "      <th>6</th>\n",
       "      <td>6</td>\n",
       "      <td>203</td>\n",
       "    </tr>\n",
       "    <tr>\n",
       "      <th>7</th>\n",
       "      <td>7</td>\n",
       "      <td>133</td>\n",
       "    </tr>\n",
       "  </tbody>\n",
       "</table>\n",
       "</div>"
      ],
      "text/plain": [
       "   CustomerID  Recency_Days\n",
       "0           0            37\n",
       "1           1           235\n",
       "2           2           396\n",
       "3           3            72\n",
       "4           4           255\n",
       "5           5           393\n",
       "6           6           203\n",
       "7           7           133"
      ]
     },
     "execution_count": 13,
     "metadata": {},
     "output_type": "execute_result"
    }
   ],
   "source": [
    "# Create a simple DF\n",
    "data = pd.DataFrame({'CustomerID': pd.Series(range(0,8)),\n",
    "                     'Recency_Days': [37, 235, 396, 72, 255, 393, 203, 133]\n",
    "    \n",
    "})\n",
    "data"
   ]
  },
  {
   "cell_type": "markdown",
   "id": "e41cb88d",
   "metadata": {
    "hidden": true
   },
   "source": [
    "In this case, the more recent the customer, the better !"
   ]
  },
  {
   "cell_type": "code",
   "execution_count": 16,
   "id": "f1628868",
   "metadata": {
    "ExecuteTime": {
     "end_time": "2022-07-20T15:20:54.784565Z",
     "start_time": "2022-07-20T15:20:54.774474Z"
    },
    "hidden": true
   },
   "outputs": [
    {
     "data": {
      "text/plain": [
       "[4, 3, 2, 1]"
      ]
     },
     "execution_count": 16,
     "metadata": {},
     "output_type": "execute_result"
    }
   ],
   "source": [
    "# Create nb labels\n",
    "r_labels = list(range(4,0,-1))\n",
    "r_labels"
   ]
  },
  {
   "cell_type": "code",
   "execution_count": 19,
   "id": "659b0fb1",
   "metadata": {
    "ExecuteTime": {
     "end_time": "2022-07-20T15:23:51.208717Z",
     "start_time": "2022-07-20T15:23:51.184216Z"
    },
    "hidden": true
   },
   "outputs": [
    {
     "data": {
      "text/html": [
       "<div>\n",
       "<style scoped>\n",
       "    .dataframe tbody tr th:only-of-type {\n",
       "        vertical-align: middle;\n",
       "    }\n",
       "\n",
       "    .dataframe tbody tr th {\n",
       "        vertical-align: top;\n",
       "    }\n",
       "\n",
       "    .dataframe thead th {\n",
       "        text-align: right;\n",
       "    }\n",
       "</style>\n",
       "<table border=\"1\" class=\"dataframe\">\n",
       "  <thead>\n",
       "    <tr style=\"text-align: right;\">\n",
       "      <th></th>\n",
       "      <th>CustomerID</th>\n",
       "      <th>Recency_Days</th>\n",
       "      <th>Recency_quartiles</th>\n",
       "    </tr>\n",
       "  </thead>\n",
       "  <tbody>\n",
       "    <tr>\n",
       "      <th>0</th>\n",
       "      <td>0</td>\n",
       "      <td>37</td>\n",
       "      <td>4</td>\n",
       "    </tr>\n",
       "    <tr>\n",
       "      <th>3</th>\n",
       "      <td>3</td>\n",
       "      <td>72</td>\n",
       "      <td>4</td>\n",
       "    </tr>\n",
       "    <tr>\n",
       "      <th>7</th>\n",
       "      <td>7</td>\n",
       "      <td>133</td>\n",
       "      <td>3</td>\n",
       "    </tr>\n",
       "    <tr>\n",
       "      <th>6</th>\n",
       "      <td>6</td>\n",
       "      <td>203</td>\n",
       "      <td>3</td>\n",
       "    </tr>\n",
       "    <tr>\n",
       "      <th>1</th>\n",
       "      <td>1</td>\n",
       "      <td>235</td>\n",
       "      <td>2</td>\n",
       "    </tr>\n",
       "    <tr>\n",
       "      <th>4</th>\n",
       "      <td>4</td>\n",
       "      <td>255</td>\n",
       "      <td>2</td>\n",
       "    </tr>\n",
       "    <tr>\n",
       "      <th>5</th>\n",
       "      <td>5</td>\n",
       "      <td>393</td>\n",
       "      <td>1</td>\n",
       "    </tr>\n",
       "    <tr>\n",
       "      <th>2</th>\n",
       "      <td>2</td>\n",
       "      <td>396</td>\n",
       "      <td>1</td>\n",
       "    </tr>\n",
       "  </tbody>\n",
       "</table>\n",
       "</div>"
      ],
      "text/plain": [
       "   CustomerID  Recency_Days Recency_quartiles\n",
       "0           0            37                 4\n",
       "3           3            72                 4\n",
       "7           7           133                 3\n",
       "6           6           203                 3\n",
       "1           1           235                 2\n",
       "4           4           255                 2\n",
       "5           5           393                 1\n",
       "2           2           396                 1"
      ]
     },
     "execution_count": 19,
     "metadata": {},
     "output_type": "execute_result"
    }
   ],
   "source": [
    "# Divide into groups based on quartiles\n",
    "recency_quartiles = pd.qcut(x=data['Recency_Days'], q=4, labels=r_labels)\n",
    "\n",
    "# Create new column\n",
    "data['Recency_quartiles'] = recency_quartiles\n",
    "data.sort_values('Recency_Days')"
   ]
  },
  {
   "cell_type": "markdown",
   "id": "769e1c66",
   "metadata": {
    "hidden": true
   },
   "source": [
    "The quartile labels are reversed, since the most recent customer are more valuable"
   ]
  },
  {
   "cell_type": "markdown",
   "id": "70d0c9f7",
   "metadata": {
    "hidden": true
   },
   "source": [
    "## Custom labels"
   ]
  },
  {
   "cell_type": "code",
   "execution_count": 21,
   "id": "1c33e469",
   "metadata": {
    "ExecuteTime": {
     "end_time": "2022-07-20T15:28:13.554123Z",
     "start_time": "2022-07-20T15:28:13.527471Z"
    },
    "hidden": true
   },
   "outputs": [
    {
     "data": {
      "text/html": [
       "<div>\n",
       "<style scoped>\n",
       "    .dataframe tbody tr th:only-of-type {\n",
       "        vertical-align: middle;\n",
       "    }\n",
       "\n",
       "    .dataframe tbody tr th {\n",
       "        vertical-align: top;\n",
       "    }\n",
       "\n",
       "    .dataframe thead th {\n",
       "        text-align: right;\n",
       "    }\n",
       "</style>\n",
       "<table border=\"1\" class=\"dataframe\">\n",
       "  <thead>\n",
       "    <tr style=\"text-align: right;\">\n",
       "      <th></th>\n",
       "      <th>CustomerID</th>\n",
       "      <th>Recency_Days</th>\n",
       "      <th>Recency_quartiles</th>\n",
       "      <th>Recency_Quartile</th>\n",
       "    </tr>\n",
       "  </thead>\n",
       "  <tbody>\n",
       "    <tr>\n",
       "      <th>0</th>\n",
       "      <td>0</td>\n",
       "      <td>37</td>\n",
       "      <td>4</td>\n",
       "      <td>Active</td>\n",
       "    </tr>\n",
       "    <tr>\n",
       "      <th>3</th>\n",
       "      <td>3</td>\n",
       "      <td>72</td>\n",
       "      <td>4</td>\n",
       "      <td>Active</td>\n",
       "    </tr>\n",
       "    <tr>\n",
       "      <th>7</th>\n",
       "      <td>7</td>\n",
       "      <td>133</td>\n",
       "      <td>3</td>\n",
       "      <td>Lapsed</td>\n",
       "    </tr>\n",
       "    <tr>\n",
       "      <th>6</th>\n",
       "      <td>6</td>\n",
       "      <td>203</td>\n",
       "      <td>3</td>\n",
       "      <td>Lapsed</td>\n",
       "    </tr>\n",
       "    <tr>\n",
       "      <th>1</th>\n",
       "      <td>1</td>\n",
       "      <td>235</td>\n",
       "      <td>2</td>\n",
       "      <td>Inactive</td>\n",
       "    </tr>\n",
       "    <tr>\n",
       "      <th>4</th>\n",
       "      <td>4</td>\n",
       "      <td>255</td>\n",
       "      <td>2</td>\n",
       "      <td>Inactive</td>\n",
       "    </tr>\n",
       "    <tr>\n",
       "      <th>5</th>\n",
       "      <td>5</td>\n",
       "      <td>393</td>\n",
       "      <td>1</td>\n",
       "      <td>Churned</td>\n",
       "    </tr>\n",
       "    <tr>\n",
       "      <th>2</th>\n",
       "      <td>2</td>\n",
       "      <td>396</td>\n",
       "      <td>1</td>\n",
       "      <td>Churned</td>\n",
       "    </tr>\n",
       "  </tbody>\n",
       "</table>\n",
       "</div>"
      ],
      "text/plain": [
       "   CustomerID  Recency_Days Recency_quartiles Recency_Quartile\n",
       "0           0            37                 4           Active\n",
       "3           3            72                 4           Active\n",
       "7           7           133                 3           Lapsed\n",
       "6           6           203                 3           Lapsed\n",
       "1           1           235                 2         Inactive\n",
       "4           4           255                 2         Inactive\n",
       "5           5           393                 1          Churned\n",
       "2           2           396                 1          Churned"
      ]
     },
     "execution_count": 21,
     "metadata": {},
     "output_type": "execute_result"
    }
   ],
   "source": [
    "# Create string labels\n",
    "r_labels = ['Active', 'Lapsed', 'Inactive', 'Churned']\n",
    "\n",
    "# Divide into groups based on quartiles\n",
    "recency_quartiles = pd.qcut(x=data['Recency_Days'], q=4, labels=r_labels)\n",
    "\n",
    "# Create new column\n",
    "data['Recency_Quartile'] = recency_quartiles\n",
    "\n",
    "# Sort values\n",
    "data.sort_values('Recency_Days')"
   ]
  },
  {
   "cell_type": "markdown",
   "id": "ed75cb15",
   "metadata": {},
   "source": [
    "# Calculating RFM metrics"
   ]
  },
  {
   "cell_type": "code",
   "execution_count": 41,
   "id": "33c50a26",
   "metadata": {
    "ExecuteTime": {
     "end_time": "2022-07-20T15:44:42.644232Z",
     "start_time": "2022-07-20T15:44:42.533255Z"
    }
   },
   "outputs": [
    {
     "data": {
      "text/html": [
       "<div>\n",
       "<style scoped>\n",
       "    .dataframe tbody tr th:only-of-type {\n",
       "        vertical-align: middle;\n",
       "    }\n",
       "\n",
       "    .dataframe tbody tr th {\n",
       "        vertical-align: top;\n",
       "    }\n",
       "\n",
       "    .dataframe thead th {\n",
       "        text-align: right;\n",
       "    }\n",
       "</style>\n",
       "<table border=\"1\" class=\"dataframe\">\n",
       "  <thead>\n",
       "    <tr style=\"text-align: right;\">\n",
       "      <th></th>\n",
       "      <th>Unnamed: 0</th>\n",
       "      <th>InvoiceNo</th>\n",
       "      <th>StockCode</th>\n",
       "      <th>Description</th>\n",
       "      <th>Quantity</th>\n",
       "      <th>InvoiceDate</th>\n",
       "      <th>UnitPrice</th>\n",
       "      <th>CustomerID</th>\n",
       "      <th>Country</th>\n",
       "    </tr>\n",
       "  </thead>\n",
       "  <tbody>\n",
       "    <tr>\n",
       "      <th>0</th>\n",
       "      <td>416792</td>\n",
       "      <td>572558</td>\n",
       "      <td>22745</td>\n",
       "      <td>POPPY'S PLAYHOUSE BEDROOM</td>\n",
       "      <td>6</td>\n",
       "      <td>2011-10-25 08:26:00</td>\n",
       "      <td>2.10</td>\n",
       "      <td>14286</td>\n",
       "      <td>United Kingdom</td>\n",
       "    </tr>\n",
       "    <tr>\n",
       "      <th>1</th>\n",
       "      <td>482904</td>\n",
       "      <td>577485</td>\n",
       "      <td>23196</td>\n",
       "      <td>VINTAGE LEAF MAGNETIC NOTEPAD</td>\n",
       "      <td>1</td>\n",
       "      <td>2011-11-20 11:56:00</td>\n",
       "      <td>1.45</td>\n",
       "      <td>16360</td>\n",
       "      <td>United Kingdom</td>\n",
       "    </tr>\n",
       "    <tr>\n",
       "      <th>2</th>\n",
       "      <td>263743</td>\n",
       "      <td>560034</td>\n",
       "      <td>23299</td>\n",
       "      <td>FOOD COVER WITH BEADS SET 2</td>\n",
       "      <td>6</td>\n",
       "      <td>2011-07-14 13:35:00</td>\n",
       "      <td>3.75</td>\n",
       "      <td>13933</td>\n",
       "      <td>United Kingdom</td>\n",
       "    </tr>\n",
       "    <tr>\n",
       "      <th>3</th>\n",
       "      <td>495549</td>\n",
       "      <td>578307</td>\n",
       "      <td>72349B</td>\n",
       "      <td>SET/6 PURPLE BUTTERFLY T-LIGHTS</td>\n",
       "      <td>1</td>\n",
       "      <td>2011-11-23 15:53:00</td>\n",
       "      <td>2.10</td>\n",
       "      <td>17290</td>\n",
       "      <td>United Kingdom</td>\n",
       "    </tr>\n",
       "    <tr>\n",
       "      <th>4</th>\n",
       "      <td>204384</td>\n",
       "      <td>554656</td>\n",
       "      <td>21756</td>\n",
       "      <td>BATH BUILDING BLOCK WORD</td>\n",
       "      <td>3</td>\n",
       "      <td>2011-05-25 13:36:00</td>\n",
       "      <td>5.95</td>\n",
       "      <td>17663</td>\n",
       "      <td>United Kingdom</td>\n",
       "    </tr>\n",
       "  </tbody>\n",
       "</table>\n",
       "</div>"
      ],
      "text/plain": [
       "   Unnamed: 0  InvoiceNo StockCode                      Description  Quantity  \\\n",
       "0      416792     572558     22745       POPPY'S PLAYHOUSE BEDROOM          6   \n",
       "1      482904     577485     23196    VINTAGE LEAF MAGNETIC NOTEPAD         1   \n",
       "2      263743     560034     23299     FOOD COVER WITH BEADS SET 2          6   \n",
       "3      495549     578307    72349B  SET/6 PURPLE BUTTERFLY T-LIGHTS         1   \n",
       "4      204384     554656     21756         BATH BUILDING BLOCK WORD         3   \n",
       "\n",
       "           InvoiceDate  UnitPrice  CustomerID         Country  \n",
       "0  2011-10-25 08:26:00       2.10       14286  United Kingdom  \n",
       "1  2011-11-20 11:56:00       1.45       16360  United Kingdom  \n",
       "2  2011-07-14 13:35:00       3.75       13933  United Kingdom  \n",
       "3  2011-11-23 15:53:00       2.10       17290  United Kingdom  \n",
       "4  2011-05-25 13:36:00       5.95       17663  United Kingdom  "
      ]
     },
     "execution_count": 41,
     "metadata": {},
     "output_type": "execute_result"
    }
   ],
   "source": [
    "# Load data\n",
    "online_df = pd.read_csv('data/online.csv')\n",
    "online_df.head()"
   ]
  },
  {
   "cell_type": "code",
   "execution_count": 42,
   "id": "427e4762",
   "metadata": {
    "ExecuteTime": {
     "end_time": "2022-07-20T15:44:42.896561Z",
     "start_time": "2022-07-20T15:44:42.865309Z"
    }
   },
   "outputs": [
    {
     "data": {
      "text/html": [
       "<div>\n",
       "<style scoped>\n",
       "    .dataframe tbody tr th:only-of-type {\n",
       "        vertical-align: middle;\n",
       "    }\n",
       "\n",
       "    .dataframe tbody tr th {\n",
       "        vertical-align: top;\n",
       "    }\n",
       "\n",
       "    .dataframe thead th {\n",
       "        text-align: right;\n",
       "    }\n",
       "</style>\n",
       "<table border=\"1\" class=\"dataframe\">\n",
       "  <thead>\n",
       "    <tr style=\"text-align: right;\">\n",
       "      <th></th>\n",
       "      <th>InvoiceNo</th>\n",
       "      <th>StockCode</th>\n",
       "      <th>Description</th>\n",
       "      <th>Quantity</th>\n",
       "      <th>InvoiceDate</th>\n",
       "      <th>UnitPrice</th>\n",
       "      <th>CustomerID</th>\n",
       "      <th>Country</th>\n",
       "      <th>TotalSum</th>\n",
       "    </tr>\n",
       "    <tr>\n",
       "      <th>Unnamed: 0</th>\n",
       "      <th></th>\n",
       "      <th></th>\n",
       "      <th></th>\n",
       "      <th></th>\n",
       "      <th></th>\n",
       "      <th></th>\n",
       "      <th></th>\n",
       "      <th></th>\n",
       "      <th></th>\n",
       "    </tr>\n",
       "  </thead>\n",
       "  <tbody>\n",
       "    <tr>\n",
       "      <th>416792</th>\n",
       "      <td>572558</td>\n",
       "      <td>22745</td>\n",
       "      <td>POPPY'S PLAYHOUSE BEDROOM</td>\n",
       "      <td>6</td>\n",
       "      <td>2011-10-25 08:26:00</td>\n",
       "      <td>2.10</td>\n",
       "      <td>14286</td>\n",
       "      <td>United Kingdom</td>\n",
       "      <td>12.60</td>\n",
       "    </tr>\n",
       "    <tr>\n",
       "      <th>482904</th>\n",
       "      <td>577485</td>\n",
       "      <td>23196</td>\n",
       "      <td>VINTAGE LEAF MAGNETIC NOTEPAD</td>\n",
       "      <td>1</td>\n",
       "      <td>2011-11-20 11:56:00</td>\n",
       "      <td>1.45</td>\n",
       "      <td>16360</td>\n",
       "      <td>United Kingdom</td>\n",
       "      <td>1.45</td>\n",
       "    </tr>\n",
       "    <tr>\n",
       "      <th>263743</th>\n",
       "      <td>560034</td>\n",
       "      <td>23299</td>\n",
       "      <td>FOOD COVER WITH BEADS SET 2</td>\n",
       "      <td>6</td>\n",
       "      <td>2011-07-14 13:35:00</td>\n",
       "      <td>3.75</td>\n",
       "      <td>13933</td>\n",
       "      <td>United Kingdom</td>\n",
       "      <td>22.50</td>\n",
       "    </tr>\n",
       "    <tr>\n",
       "      <th>495549</th>\n",
       "      <td>578307</td>\n",
       "      <td>72349B</td>\n",
       "      <td>SET/6 PURPLE BUTTERFLY T-LIGHTS</td>\n",
       "      <td>1</td>\n",
       "      <td>2011-11-23 15:53:00</td>\n",
       "      <td>2.10</td>\n",
       "      <td>17290</td>\n",
       "      <td>United Kingdom</td>\n",
       "      <td>2.10</td>\n",
       "    </tr>\n",
       "    <tr>\n",
       "      <th>204384</th>\n",
       "      <td>554656</td>\n",
       "      <td>21756</td>\n",
       "      <td>BATH BUILDING BLOCK WORD</td>\n",
       "      <td>3</td>\n",
       "      <td>2011-05-25 13:36:00</td>\n",
       "      <td>5.95</td>\n",
       "      <td>17663</td>\n",
       "      <td>United Kingdom</td>\n",
       "      <td>17.85</td>\n",
       "    </tr>\n",
       "  </tbody>\n",
       "</table>\n",
       "</div>"
      ],
      "text/plain": [
       "            InvoiceNo StockCode                      Description  Quantity  \\\n",
       "Unnamed: 0                                                                   \n",
       "416792         572558     22745       POPPY'S PLAYHOUSE BEDROOM          6   \n",
       "482904         577485     23196    VINTAGE LEAF MAGNETIC NOTEPAD         1   \n",
       "263743         560034     23299     FOOD COVER WITH BEADS SET 2          6   \n",
       "495549         578307    72349B  SET/6 PURPLE BUTTERFLY T-LIGHTS         1   \n",
       "204384         554656     21756         BATH BUILDING BLOCK WORD         3   \n",
       "\n",
       "                    InvoiceDate  UnitPrice  CustomerID         Country  \\\n",
       "Unnamed: 0                                                               \n",
       "416792      2011-10-25 08:26:00       2.10       14286  United Kingdom   \n",
       "482904      2011-11-20 11:56:00       1.45       16360  United Kingdom   \n",
       "263743      2011-07-14 13:35:00       3.75       13933  United Kingdom   \n",
       "495549      2011-11-23 15:53:00       2.10       17290  United Kingdom   \n",
       "204384      2011-05-25 13:36:00       5.95       17663  United Kingdom   \n",
       "\n",
       "            TotalSum  \n",
       "Unnamed: 0            \n",
       "416792         12.60  \n",
       "482904          1.45  \n",
       "263743         22.50  \n",
       "495549          2.10  \n",
       "204384         17.85  "
      ]
     },
     "execution_count": 42,
     "metadata": {},
     "output_type": "execute_result"
    }
   ],
   "source": [
    "# Create TotalSum = Quantity * UnitPrice\n",
    "online_df['TotalSum'] = online_df['Quantity'] * online_df['UnitPrice']\n",
    "online_df = online_df.set_index('Unnamed: 0')\n",
    "online_df.head()"
   ]
  },
  {
   "cell_type": "code",
   "execution_count": 50,
   "id": "223238a4",
   "metadata": {
    "ExecuteTime": {
     "end_time": "2022-07-20T15:47:39.159657Z",
     "start_time": "2022-07-20T15:47:39.108898Z"
    }
   },
   "outputs": [
    {
     "name": "stdout",
     "output_type": "stream",
     "text": [
      "<class 'pandas.core.frame.DataFrame'>\n",
      "Int64Index: 70864 entries, 416792 to 312243\n",
      "Data columns (total 9 columns):\n",
      " #   Column       Non-Null Count  Dtype         \n",
      "---  ------       --------------  -----         \n",
      " 0   InvoiceNo    70864 non-null  int64         \n",
      " 1   StockCode    70864 non-null  object        \n",
      " 2   Description  70864 non-null  object        \n",
      " 3   Quantity     70864 non-null  int64         \n",
      " 4   InvoiceDate  70864 non-null  datetime64[ns]\n",
      " 5   UnitPrice    70864 non-null  float64       \n",
      " 6   CustomerID   70864 non-null  int64         \n",
      " 7   Country      70864 non-null  object        \n",
      " 8   TotalSum     70864 non-null  float64       \n",
      "dtypes: datetime64[ns](1), float64(2), int64(3), object(3)\n",
      "memory usage: 5.4+ MB\n"
     ]
    }
   ],
   "source": [
    "online_df['InvoiceDate'] = pd.to_datetime(online_df['InvoiceDate'])\n",
    "online_df.info()"
   ]
  },
  {
   "cell_type": "markdown",
   "id": "d5909063",
   "metadata": {},
   "source": [
    "## Data preparation"
   ]
  },
  {
   "cell_type": "code",
   "execution_count": 51,
   "id": "545aa8d9",
   "metadata": {
    "ExecuteTime": {
     "end_time": "2022-07-20T15:47:44.267539Z",
     "start_time": "2022-07-20T15:47:44.127579Z"
    }
   },
   "outputs": [
    {
     "data": {
      "text/plain": [
       "'Min: 2010-12-01 08:26:00; Max: 2011-12-09 12:49:00'"
      ]
     },
     "execution_count": 51,
     "metadata": {},
     "output_type": "execute_result"
    }
   ],
   "source": [
    "# Which period\n",
    "'Min: {}; Max: {}'.format(min(online_df.InvoiceDate),\n",
    "                       max(online_df.InvoiceDate))"
   ]
  },
  {
   "cell_type": "code",
   "execution_count": 53,
   "id": "105187f0",
   "metadata": {
    "ExecuteTime": {
     "end_time": "2022-07-20T15:59:55.747653Z",
     "start_time": "2022-07-20T15:59:55.640736Z"
    }
   },
   "outputs": [
    {
     "data": {
      "text/plain": [
       "Timestamp('2011-12-10 12:49:00')"
      ]
     },
     "execution_count": 53,
     "metadata": {},
     "output_type": "execute_result"
    }
   ],
   "source": [
    "# Create a hypothetical snapshot_day data as if we're doing analysis recently\n",
    "snapshot_date = max(online_df.InvoiceDate) + dt.timedelta(days=1)\n",
    "snapshot_date"
   ]
  },
  {
   "cell_type": "markdown",
   "id": "e00f280f",
   "metadata": {},
   "source": [
    "Pour reprendre  : https://campus.datacamp.com/courses/customer-segmentation-in-python/recency-frequency-monetary-value-analysis?ex=4 , min -1.04"
   ]
  },
  {
   "cell_type": "markdown",
   "id": "3bb05001",
   "metadata": {},
   "source": [
    "# Building RFM segments"
   ]
  },
  {
   "cell_type": "code",
   "execution_count": null,
   "id": "7bd05dbd",
   "metadata": {},
   "outputs": [],
   "source": []
  },
  {
   "cell_type": "code",
   "execution_count": null,
   "id": "743e03e7",
   "metadata": {},
   "outputs": [],
   "source": []
  },
  {
   "cell_type": "markdown",
   "id": "f614ac27",
   "metadata": {},
   "source": [
    "# Analyzing RFM table"
   ]
  },
  {
   "cell_type": "code",
   "execution_count": null,
   "id": "d459ed17",
   "metadata": {},
   "outputs": [],
   "source": []
  },
  {
   "cell_type": "markdown",
   "id": "4de2a9a2",
   "metadata": {},
   "source": []
  }
 ],
 "metadata": {
  "kernelspec": {
   "display_name": "Python 3 (ipykernel)",
   "language": "python",
   "name": "python3"
  },
  "language_info": {
   "codemirror_mode": {
    "name": "ipython",
    "version": 3
   },
   "file_extension": ".py",
   "mimetype": "text/x-python",
   "name": "python",
   "nbconvert_exporter": "python",
   "pygments_lexer": "ipython3",
   "version": "3.8.12"
  },
  "toc": {
   "base_numbering": 1,
   "nav_menu": {},
   "number_sections": true,
   "sideBar": true,
   "skip_h1_title": false,
   "title_cell": "Table of Contents",
   "title_sidebar": "Contents",
   "toc_cell": false,
   "toc_position": {},
   "toc_section_display": true,
   "toc_window_display": false
  }
 },
 "nbformat": 4,
 "nbformat_minor": 5
}
