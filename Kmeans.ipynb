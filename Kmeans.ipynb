{
 "cells": [
  {
   "cell_type": "markdown",
   "id": "a8976836",
   "metadata": {},
   "source": [
    "# Customer Segmentation with K-means"
   ]
  },
  {
   "cell_type": "markdown",
   "id": "fa96affa",
   "metadata": {},
   "source": [
    "**Datacamp** : https://app.datacamp.com/learn/courses/customer-segmentation-in-python"
   ]
  },
  {
   "cell_type": "code",
   "execution_count": 1,
   "id": "7e2eeb90",
   "metadata": {
    "ExecuteTime": {
     "end_time": "2022-07-22T11:59:07.197904Z",
     "start_time": "2022-07-22T11:59:04.546043Z"
    }
   },
   "outputs": [],
   "source": [
    "import numpy as np\n",
    "import pandas as pd\n",
    "import matplotlib.pyplot as plt\n",
    "import seaborn as sns\n",
    "import datetime as dt"
   ]
  },
  {
   "cell_type": "code",
   "execution_count": 2,
   "id": "20946bd6",
   "metadata": {
    "ExecuteTime": {
     "end_time": "2022-07-22T11:59:07.772936Z",
     "start_time": "2022-07-22T11:59:07.199678Z"
    }
   },
   "outputs": [],
   "source": [
    "from sklearn.preprocessing import StandardScaler\n",
    "from sklearn.cluster import KMeans"
   ]
  },
  {
   "cell_type": "markdown",
   "id": "8e1e642a",
   "metadata": {},
   "source": [
    "# Data pre-processing for k-means clustering"
   ]
  },
  {
   "cell_type": "markdown",
   "id": "b00374af",
   "metadata": {},
   "source": [
    "**Advantages of k-means clustering :**\n",
    "\n",
    "- One of the most pupular unsupervised leanring method\n",
    "- Simple and fast\n",
    "- Works well (with certain assumptions about data)"
   ]
  },
  {
   "cell_type": "markdown",
   "id": "177bcd89",
   "metadata": {},
   "source": [
    "**Key k-means assumptions :**\n",
    "- Symmetric distribution of variables (not skewed)\n",
    "- Variables with same average values\n",
    "- Variables with same variance"
   ]
  },
  {
   "cell_type": "markdown",
   "id": "86b5f6a0",
   "metadata": {},
   "source": [
    "**Skewed variables :**\n",
    "- Left-skewed or Right-skewed => skew can be removed with logarithmic tranformation (Gaussian)"
   ]
  },
  {
   "cell_type": "markdown",
   "id": "a0f85b47",
   "metadata": {},
   "source": [
    "**Variables on the same scale :**\n",
    "- K-means assumes equal mean\n",
    "- And equal variance\n",
    "- It's not the case with RFM data"
   ]
  },
  {
   "cell_type": "code",
   "execution_count": 3,
   "id": "1b64e28e",
   "metadata": {
    "ExecuteTime": {
     "end_time": "2022-07-22T11:59:07.809601Z",
     "start_time": "2022-07-22T11:59:07.776396Z"
    }
   },
   "outputs": [
    {
     "data": {
      "text/html": [
       "<div>\n",
       "<style scoped>\n",
       "    .dataframe tbody tr th:only-of-type {\n",
       "        vertical-align: middle;\n",
       "    }\n",
       "\n",
       "    .dataframe tbody tr th {\n",
       "        vertical-align: top;\n",
       "    }\n",
       "\n",
       "    .dataframe thead th {\n",
       "        text-align: right;\n",
       "    }\n",
       "</style>\n",
       "<table border=\"1\" class=\"dataframe\">\n",
       "  <thead>\n",
       "    <tr style=\"text-align: right;\">\n",
       "      <th></th>\n",
       "      <th>Recency</th>\n",
       "      <th>Frequency</th>\n",
       "      <th>MonetaryValue</th>\n",
       "      <th>R</th>\n",
       "      <th>F</th>\n",
       "      <th>M</th>\n",
       "      <th>RFM_segment</th>\n",
       "      <th>RFM_score</th>\n",
       "      <th>GeneralSegment</th>\n",
       "    </tr>\n",
       "  </thead>\n",
       "  <tbody>\n",
       "    <tr>\n",
       "      <th>0</th>\n",
       "      <td>2</td>\n",
       "      <td>27</td>\n",
       "      <td>992.82</td>\n",
       "      <td>4</td>\n",
       "      <td>4</td>\n",
       "      <td>4</td>\n",
       "      <td>444</td>\n",
       "      <td>12</td>\n",
       "      <td>Gold</td>\n",
       "    </tr>\n",
       "    <tr>\n",
       "      <th>1</th>\n",
       "      <td>1</td>\n",
       "      <td>967</td>\n",
       "      <td>7522.06</td>\n",
       "      <td>4</td>\n",
       "      <td>4</td>\n",
       "      <td>4</td>\n",
       "      <td>444</td>\n",
       "      <td>12</td>\n",
       "      <td>Gold</td>\n",
       "    </tr>\n",
       "    <tr>\n",
       "      <th>2</th>\n",
       "      <td>4</td>\n",
       "      <td>37</td>\n",
       "      <td>813.45</td>\n",
       "      <td>4</td>\n",
       "      <td>4</td>\n",
       "      <td>4</td>\n",
       "      <td>444</td>\n",
       "      <td>12</td>\n",
       "      <td>Gold</td>\n",
       "    </tr>\n",
       "    <tr>\n",
       "      <th>3</th>\n",
       "      <td>3</td>\n",
       "      <td>17</td>\n",
       "      <td>268.02</td>\n",
       "      <td>4</td>\n",
       "      <td>3</td>\n",
       "      <td>3</td>\n",
       "      <td>433</td>\n",
       "      <td>10</td>\n",
       "      <td>Gold</td>\n",
       "    </tr>\n",
       "    <tr>\n",
       "      <th>4</th>\n",
       "      <td>71</td>\n",
       "      <td>9</td>\n",
       "      <td>146.15</td>\n",
       "      <td>2</td>\n",
       "      <td>2</td>\n",
       "      <td>3</td>\n",
       "      <td>223</td>\n",
       "      <td>7</td>\n",
       "      <td>Silver</td>\n",
       "    </tr>\n",
       "  </tbody>\n",
       "</table>\n",
       "</div>"
      ],
      "text/plain": [
       "   Recency  Frequency  MonetaryValue  R  F  M  RFM_segment  RFM_score  \\\n",
       "0        2         27         992.82  4  4  4          444         12   \n",
       "1        1        967        7522.06  4  4  4          444         12   \n",
       "2        4         37         813.45  4  4  4          444         12   \n",
       "3        3         17         268.02  4  3  3          433         10   \n",
       "4       71          9         146.15  2  2  3          223          7   \n",
       "\n",
       "  GeneralSegment  \n",
       "0           Gold  \n",
       "1           Gold  \n",
       "2           Gold  \n",
       "3           Gold  \n",
       "4         Silver  "
      ]
     },
     "execution_count": 3,
     "metadata": {},
     "output_type": "execute_result"
    }
   ],
   "source": [
    "# Load datamart from RFM\n",
    "datamart = pd.read_csv('data/datamart_RFM.csv')\n",
    "datamart.head()"
   ]
  },
  {
   "cell_type": "code",
   "execution_count": 4,
   "id": "a602f39e",
   "metadata": {
    "ExecuteTime": {
     "end_time": "2022-07-22T11:59:07.862282Z",
     "start_time": "2022-07-22T11:59:07.812487Z"
    }
   },
   "outputs": [
    {
     "data": {
      "text/html": [
       "<div>\n",
       "<style scoped>\n",
       "    .dataframe tbody tr th:only-of-type {\n",
       "        vertical-align: middle;\n",
       "    }\n",
       "\n",
       "    .dataframe tbody tr th {\n",
       "        vertical-align: top;\n",
       "    }\n",
       "\n",
       "    .dataframe thead th {\n",
       "        text-align: right;\n",
       "    }\n",
       "</style>\n",
       "<table border=\"1\" class=\"dataframe\">\n",
       "  <thead>\n",
       "    <tr style=\"text-align: right;\">\n",
       "      <th></th>\n",
       "      <th>Recency</th>\n",
       "      <th>Frequency</th>\n",
       "      <th>MonetaryValue</th>\n",
       "      <th>R</th>\n",
       "      <th>F</th>\n",
       "      <th>M</th>\n",
       "      <th>RFM_segment</th>\n",
       "      <th>RFM_score</th>\n",
       "    </tr>\n",
       "  </thead>\n",
       "  <tbody>\n",
       "    <tr>\n",
       "      <th>count</th>\n",
       "      <td>3701.000000</td>\n",
       "      <td>3701.000000</td>\n",
       "      <td>3701.000000</td>\n",
       "      <td>3701.000000</td>\n",
       "      <td>3701.000000</td>\n",
       "      <td>3701.000000</td>\n",
       "      <td>3701.000000</td>\n",
       "      <td>3701.000000</td>\n",
       "    </tr>\n",
       "    <tr>\n",
       "      <th>mean</th>\n",
       "      <td>94.298568</td>\n",
       "      <td>19.147257</td>\n",
       "      <td>380.535069</td>\n",
       "      <td>2.516347</td>\n",
       "      <td>2.427722</td>\n",
       "      <td>2.499325</td>\n",
       "      <td>278.411240</td>\n",
       "      <td>7.443394</td>\n",
       "    </tr>\n",
       "    <tr>\n",
       "      <th>std</th>\n",
       "      <td>99.974969</td>\n",
       "      <td>44.831615</td>\n",
       "      <td>1474.285937</td>\n",
       "      <td>1.128292</td>\n",
       "      <td>1.151018</td>\n",
       "      <td>1.118547</td>\n",
       "      <td>119.232462</td>\n",
       "      <td>2.825434</td>\n",
       "    </tr>\n",
       "    <tr>\n",
       "      <th>min</th>\n",
       "      <td>1.000000</td>\n",
       "      <td>1.000000</td>\n",
       "      <td>0.650000</td>\n",
       "      <td>1.000000</td>\n",
       "      <td>1.000000</td>\n",
       "      <td>1.000000</td>\n",
       "      <td>111.000000</td>\n",
       "      <td>3.000000</td>\n",
       "    </tr>\n",
       "    <tr>\n",
       "      <th>25%</th>\n",
       "      <td>19.000000</td>\n",
       "      <td>4.000000</td>\n",
       "      <td>59.400000</td>\n",
       "      <td>2.000000</td>\n",
       "      <td>1.000000</td>\n",
       "      <td>1.000000</td>\n",
       "      <td>211.000000</td>\n",
       "      <td>5.000000</td>\n",
       "    </tr>\n",
       "    <tr>\n",
       "      <th>50%</th>\n",
       "      <td>52.000000</td>\n",
       "      <td>9.000000</td>\n",
       "      <td>140.300000</td>\n",
       "      <td>3.000000</td>\n",
       "      <td>2.000000</td>\n",
       "      <td>2.000000</td>\n",
       "      <td>311.000000</td>\n",
       "      <td>7.000000</td>\n",
       "    </tr>\n",
       "    <tr>\n",
       "      <th>75%</th>\n",
       "      <td>151.000000</td>\n",
       "      <td>21.000000</td>\n",
       "      <td>337.800000</td>\n",
       "      <td>4.000000</td>\n",
       "      <td>3.000000</td>\n",
       "      <td>3.000000</td>\n",
       "      <td>411.000000</td>\n",
       "      <td>10.000000</td>\n",
       "    </tr>\n",
       "    <tr>\n",
       "      <th>max</th>\n",
       "      <td>374.000000</td>\n",
       "      <td>1532.000000</td>\n",
       "      <td>59596.070000</td>\n",
       "      <td>4.000000</td>\n",
       "      <td>4.000000</td>\n",
       "      <td>4.000000</td>\n",
       "      <td>444.000000</td>\n",
       "      <td>12.000000</td>\n",
       "    </tr>\n",
       "  </tbody>\n",
       "</table>\n",
       "</div>"
      ],
      "text/plain": [
       "           Recency    Frequency  MonetaryValue            R            F  \\\n",
       "count  3701.000000  3701.000000    3701.000000  3701.000000  3701.000000   \n",
       "mean     94.298568    19.147257     380.535069     2.516347     2.427722   \n",
       "std      99.974969    44.831615    1474.285937     1.128292     1.151018   \n",
       "min       1.000000     1.000000       0.650000     1.000000     1.000000   \n",
       "25%      19.000000     4.000000      59.400000     2.000000     1.000000   \n",
       "50%      52.000000     9.000000     140.300000     3.000000     2.000000   \n",
       "75%     151.000000    21.000000     337.800000     4.000000     3.000000   \n",
       "max     374.000000  1532.000000   59596.070000     4.000000     4.000000   \n",
       "\n",
       "                 M  RFM_segment    RFM_score  \n",
       "count  3701.000000  3701.000000  3701.000000  \n",
       "mean      2.499325   278.411240     7.443394  \n",
       "std       1.118547   119.232462     2.825434  \n",
       "min       1.000000   111.000000     3.000000  \n",
       "25%       1.000000   211.000000     5.000000  \n",
       "50%       2.000000   311.000000     7.000000  \n",
       "75%       3.000000   411.000000    10.000000  \n",
       "max       4.000000   444.000000    12.000000  "
      ]
     },
     "execution_count": 4,
     "metadata": {},
     "output_type": "execute_result"
    }
   ],
   "source": [
    "# Key statistics\n",
    "datamart.describe()"
   ]
  },
  {
   "cell_type": "code",
   "execution_count": 5,
   "id": "22c74f23",
   "metadata": {
    "ExecuteTime": {
     "end_time": "2022-07-22T11:59:07.878727Z",
     "start_time": "2022-07-22T11:59:07.865171Z"
    }
   },
   "outputs": [
    {
     "data": {
      "text/plain": [
       "Recency           94.298568\n",
       "Frequency         19.147257\n",
       "MonetaryValue    380.535069\n",
       "R                  2.516347\n",
       "F                  2.427722\n",
       "M                  2.499325\n",
       "RFM_segment      278.411240\n",
       "RFM_score          7.443394\n",
       "dtype: float64"
      ]
     },
     "execution_count": 5,
     "metadata": {},
     "output_type": "execute_result"
    }
   ],
   "source": [
    "# Average values\n",
    "datamart.mean(numeric_only=True)"
   ]
  },
  {
   "cell_type": "code",
   "execution_count": 6,
   "id": "b71834de",
   "metadata": {
    "ExecuteTime": {
     "end_time": "2022-07-22T11:59:07.898110Z",
     "start_time": "2022-07-22T11:59:07.881241Z"
    }
   },
   "outputs": [
    {
     "data": {
      "text/plain": [
       "Recency            99.974969\n",
       "Frequency          44.831615\n",
       "MonetaryValue    1474.285937\n",
       "R                   1.128292\n",
       "F                   1.151018\n",
       "M                   1.118547\n",
       "RFM_segment       119.232462\n",
       "RFM_score           2.825434\n",
       "dtype: float64"
      ]
     },
     "execution_count": 6,
     "metadata": {},
     "output_type": "execute_result"
    }
   ],
   "source": [
    "# STD \n",
    "datamart.std(numeric_only=True)"
   ]
  },
  {
   "cell_type": "markdown",
   "id": "83e24748",
   "metadata": {},
   "source": [
    "# Managing skewed variables"
   ]
  },
  {
   "cell_type": "markdown",
   "id": "cd124d7d",
   "metadata": {},
   "source": [
    "**Identifying skewness :**\n",
    "- Visual analysis of the distribution\n",
    "- If it has a tail, it's skewed (left or right)"
   ]
  },
  {
   "cell_type": "code",
   "execution_count": 7,
   "id": "7998cc9a",
   "metadata": {
    "ExecuteTime": {
     "end_time": "2022-07-22T11:59:08.225587Z",
     "start_time": "2022-07-22T11:59:07.904256Z"
    }
   },
   "outputs": [
    {
     "data": {
      "image/png": "[encoded data removed]",
      "text/plain": [
       "<Figure size 360x360 with 1 Axes>"
      ]
     },
     "metadata": {
      "needs_background": "light"
     },
     "output_type": "display_data"
    }
   ],
   "source": [
    "# Exploring distribution of Recency => Right skewed\n",
    "sns.displot(datamart['Recency'])\n",
    "plt.show()"
   ]
  },
  {
   "cell_type": "code",
   "execution_count": 8,
   "id": "64a18da6",
   "metadata": {
    "ExecuteTime": {
     "end_time": "2022-07-22T11:59:09.479793Z",
     "start_time": "2022-07-22T11:59:08.228854Z"
    }
   },
   "outputs": [
    {
     "data": {
      "image/png": "[encoded data removed]",
      "text/plain": [
       "<Figure size 360x360 with 1 Axes>"
      ]
     },
     "metadata": {
      "needs_background": "light"
     },
     "output_type": "display_data"
    }
   ],
   "source": [
    "# Exploring distribution of Frequency => Right skewed\n",
    "sns.displot(datamart['Frequency'])\n",
    "plt.show()"
   ]
  },
  {
   "cell_type": "markdown",
   "id": "15c3cfd9",
   "metadata": {},
   "source": [
    "**Data tranformations to manage skewness :**\n",
    "- Logarithmic transformation (positive values only)"
   ]
  },
  {
   "cell_type": "code",
   "execution_count": 9,
   "id": "cc50cd72",
   "metadata": {
    "ExecuteTime": {
     "end_time": "2022-07-22T11:59:09.773116Z",
     "start_time": "2022-07-22T11:59:09.485246Z"
    }
   },
   "outputs": [
    {
     "data": {
      "image/png": "[encoded data removed]",
      "text/plain": [
       "<Figure size 360x360 with 1 Axes>"
      ]
     },
     "metadata": {
      "needs_background": "light"
     },
     "output_type": "display_data"
    }
   ],
   "source": [
    "# Log tranformation of Frequency\n",
    "frequency_log = np.log(datamart['Frequency'])\n",
    "sns.displot(frequency_log)\n",
    "plt.show()"
   ]
  },
  {
   "cell_type": "markdown",
   "id": "4d3afeb4",
   "metadata": {},
   "source": [
    "**Although it's not perfectly symmetrical, it has very little skewness compared to the original distribution.**"
   ]
  },
  {
   "cell_type": "markdown",
   "id": "edd6f6ad",
   "metadata": {},
   "source": [
    "**Dealing with negative values :**\n",
    "- Adding a constant before log transformation\n",
    "- Cube root tranformation"
   ]
  },
  {
   "cell_type": "markdown",
   "id": "37efb6f7",
   "metadata": {},
   "source": [
    "# Centering and scaling data"
   ]
  },
  {
   "cell_type": "markdown",
   "id": "e0f1a364",
   "metadata": {},
   "source": [
    "**Identifying an issue :**\n",
    "- Analyze key statistics of the dataset\n",
    "- Compare mean and standard deviation"
   ]
  },
  {
   "cell_type": "code",
   "execution_count": 10,
   "id": "8e8a08d9",
   "metadata": {
    "ExecuteTime": {
     "end_time": "2022-07-22T11:59:09.803923Z",
     "start_time": "2022-07-22T11:59:09.776901Z"
    }
   },
   "outputs": [
    {
     "data": {
      "text/html": [
       "<div>\n",
       "<style scoped>\n",
       "    .dataframe tbody tr th:only-of-type {\n",
       "        vertical-align: middle;\n",
       "    }\n",
       "\n",
       "    .dataframe tbody tr th {\n",
       "        vertical-align: top;\n",
       "    }\n",
       "\n",
       "    .dataframe thead th {\n",
       "        text-align: right;\n",
       "    }\n",
       "</style>\n",
       "<table border=\"1\" class=\"dataframe\">\n",
       "  <thead>\n",
       "    <tr style=\"text-align: right;\">\n",
       "      <th></th>\n",
       "      <th>Recency</th>\n",
       "      <th>Frequency</th>\n",
       "      <th>MonetaryValue</th>\n",
       "    </tr>\n",
       "  </thead>\n",
       "  <tbody>\n",
       "    <tr>\n",
       "      <th>count</th>\n",
       "      <td>3701.000000</td>\n",
       "      <td>3701.000000</td>\n",
       "      <td>3701.000000</td>\n",
       "    </tr>\n",
       "    <tr>\n",
       "      <th>mean</th>\n",
       "      <td>94.298568</td>\n",
       "      <td>19.147257</td>\n",
       "      <td>380.535069</td>\n",
       "    </tr>\n",
       "    <tr>\n",
       "      <th>std</th>\n",
       "      <td>99.974969</td>\n",
       "      <td>44.831615</td>\n",
       "      <td>1474.285937</td>\n",
       "    </tr>\n",
       "    <tr>\n",
       "      <th>min</th>\n",
       "      <td>1.000000</td>\n",
       "      <td>1.000000</td>\n",
       "      <td>0.650000</td>\n",
       "    </tr>\n",
       "    <tr>\n",
       "      <th>25%</th>\n",
       "      <td>19.000000</td>\n",
       "      <td>4.000000</td>\n",
       "      <td>59.400000</td>\n",
       "    </tr>\n",
       "    <tr>\n",
       "      <th>50%</th>\n",
       "      <td>52.000000</td>\n",
       "      <td>9.000000</td>\n",
       "      <td>140.300000</td>\n",
       "    </tr>\n",
       "    <tr>\n",
       "      <th>75%</th>\n",
       "      <td>151.000000</td>\n",
       "      <td>21.000000</td>\n",
       "      <td>337.800000</td>\n",
       "    </tr>\n",
       "    <tr>\n",
       "      <th>max</th>\n",
       "      <td>374.000000</td>\n",
       "      <td>1532.000000</td>\n",
       "      <td>59596.070000</td>\n",
       "    </tr>\n",
       "  </tbody>\n",
       "</table>\n",
       "</div>"
      ],
      "text/plain": [
       "           Recency    Frequency  MonetaryValue\n",
       "count  3701.000000  3701.000000    3701.000000\n",
       "mean     94.298568    19.147257     380.535069\n",
       "std      99.974969    44.831615    1474.285937\n",
       "min       1.000000     1.000000       0.650000\n",
       "25%      19.000000     4.000000      59.400000\n",
       "50%      52.000000     9.000000     140.300000\n",
       "75%     151.000000    21.000000     337.800000\n",
       "max     374.000000  1532.000000   59596.070000"
      ]
     },
     "execution_count": 10,
     "metadata": {},
     "output_type": "execute_result"
    }
   ],
   "source": [
    "datamart_RFM = datamart[['Recency', 'Frequency', 'MonetaryValue']]\n",
    "datamart_RFM.describe()"
   ]
  },
  {
   "cell_type": "markdown",
   "id": "cb2ad85f",
   "metadata": {},
   "source": [
    "We can immediately see that **each of our three variables has both a different average value and a different standard deviation.** In the next step, we will deal with centering the data to make the average values match."
   ]
  },
  {
   "cell_type": "markdown",
   "id": "a63aaab4",
   "metadata": {},
   "source": [
    "**Centering variables with different means :**\n",
    "- K-means works well on variables with the same mean\n",
    "- Centering variables is done by substracting average value frome each observation"
   ]
  },
  {
   "cell_type": "code",
   "execution_count": 11,
   "id": "ef85c1b5",
   "metadata": {
    "ExecuteTime": {
     "end_time": "2022-07-22T11:59:09.832520Z",
     "start_time": "2022-07-22T11:59:09.806100Z"
    }
   },
   "outputs": [
    {
     "data": {
      "text/html": [
       "<div>\n",
       "<style scoped>\n",
       "    .dataframe tbody tr th:only-of-type {\n",
       "        vertical-align: middle;\n",
       "    }\n",
       "\n",
       "    .dataframe tbody tr th {\n",
       "        vertical-align: top;\n",
       "    }\n",
       "\n",
       "    .dataframe thead th {\n",
       "        text-align: right;\n",
       "    }\n",
       "</style>\n",
       "<table border=\"1\" class=\"dataframe\">\n",
       "  <thead>\n",
       "    <tr style=\"text-align: right;\">\n",
       "      <th></th>\n",
       "      <th>Recency</th>\n",
       "      <th>Frequency</th>\n",
       "      <th>MonetaryValue</th>\n",
       "    </tr>\n",
       "  </thead>\n",
       "  <tbody>\n",
       "    <tr>\n",
       "      <th>count</th>\n",
       "      <td>3701.00</td>\n",
       "      <td>3701.00</td>\n",
       "      <td>3701.00</td>\n",
       "    </tr>\n",
       "    <tr>\n",
       "      <th>mean</th>\n",
       "      <td>-0.00</td>\n",
       "      <td>-0.00</td>\n",
       "      <td>0.00</td>\n",
       "    </tr>\n",
       "    <tr>\n",
       "      <th>std</th>\n",
       "      <td>99.97</td>\n",
       "      <td>44.83</td>\n",
       "      <td>1474.29</td>\n",
       "    </tr>\n",
       "    <tr>\n",
       "      <th>min</th>\n",
       "      <td>-93.30</td>\n",
       "      <td>-18.15</td>\n",
       "      <td>-379.89</td>\n",
       "    </tr>\n",
       "    <tr>\n",
       "      <th>25%</th>\n",
       "      <td>-75.30</td>\n",
       "      <td>-15.15</td>\n",
       "      <td>-321.14</td>\n",
       "    </tr>\n",
       "    <tr>\n",
       "      <th>50%</th>\n",
       "      <td>-42.30</td>\n",
       "      <td>-10.15</td>\n",
       "      <td>-240.24</td>\n",
       "    </tr>\n",
       "    <tr>\n",
       "      <th>75%</th>\n",
       "      <td>56.70</td>\n",
       "      <td>1.85</td>\n",
       "      <td>-42.74</td>\n",
       "    </tr>\n",
       "    <tr>\n",
       "      <th>max</th>\n",
       "      <td>279.70</td>\n",
       "      <td>1512.85</td>\n",
       "      <td>59215.53</td>\n",
       "    </tr>\n",
       "  </tbody>\n",
       "</table>\n",
       "</div>"
      ],
      "text/plain": [
       "       Recency  Frequency  MonetaryValue\n",
       "count  3701.00    3701.00        3701.00\n",
       "mean     -0.00      -0.00           0.00\n",
       "std      99.97      44.83        1474.29\n",
       "min     -93.30     -18.15        -379.89\n",
       "25%     -75.30     -15.15        -321.14\n",
       "50%     -42.30     -10.15        -240.24\n",
       "75%      56.70       1.85         -42.74\n",
       "max     279.70    1512.85       59215.53"
      ]
     },
     "execution_count": 11,
     "metadata": {},
     "output_type": "execute_result"
    }
   ],
   "source": [
    "datamart_centered = datamart_RFM - datamart_RFM.mean()\n",
    "datamart_centered.describe().round(2)"
   ]
  },
  {
   "cell_type": "markdown",
   "id": "c888c990",
   "metadata": {},
   "source": [
    "**Scaling variables with different variance :**\n",
    "\n",
    "- K-means works better on variables with the same variance / standard deviation\n",
    "- Scaling variables is done by dividing them by standar deviation of each"
   ]
  },
  {
   "cell_type": "code",
   "execution_count": 12,
   "id": "930e4f6f",
   "metadata": {
    "ExecuteTime": {
     "end_time": "2022-07-22T11:59:09.849392Z",
     "start_time": "2022-07-22T11:59:09.834198Z"
    }
   },
   "outputs": [
    {
     "data": {
      "text/plain": [
       "<bound method NDFrame.describe of        Recency  Frequency  MonetaryValue\n",
       "0     0.020005   0.602254       0.673424\n",
       "1     0.010003  21.569600       5.102172\n",
       "2     0.040010   0.825310       0.551759\n",
       "3     0.030008   0.379197       0.181796\n",
       "4     0.710178   0.200751       0.099133\n",
       "...        ...        ...            ...\n",
       "3696  2.780696   0.044611       0.026250\n",
       "3697  1.810453   0.044611       0.021570\n",
       "3698  0.080020   0.044611       0.020824\n",
       "3699  0.040010   3.390465       0.293654\n",
       "3700  0.430108   0.334585       0.268442\n",
       "\n",
       "[3701 rows x 3 columns]>"
      ]
     },
     "execution_count": 12,
     "metadata": {},
     "output_type": "execute_result"
    }
   ],
   "source": [
    "datamart_scaled = datamart_RFM / datamart_RFM.std()\n",
    "datamart_scaled.describe"
   ]
  },
  {
   "cell_type": "markdown",
   "id": "7eba6502",
   "metadata": {},
   "source": [
    "**Combining centering and scaling :**\n",
    "- Substract mean and divide by std manually\n",
    "- Or use a scaler from scikit-learn library (returns np.ndarray object)"
   ]
  },
  {
   "cell_type": "code",
   "execution_count": 13,
   "id": "11029d04",
   "metadata": {
    "ExecuteTime": {
     "end_time": "2022-07-22T11:59:09.862264Z",
     "start_time": "2022-07-22T11:59:09.852335Z"
    }
   },
   "outputs": [],
   "source": [
    "# Use Standard Scaler\n",
    "scaler = StandardScaler()\n",
    "scaler.fit(datamart_RFM)\n",
    "datamart_normalized = scaler.transform(datamart_RFM)"
   ]
  },
  {
   "cell_type": "code",
   "execution_count": 14,
   "id": "61488558",
   "metadata": {
    "ExecuteTime": {
     "end_time": "2022-07-22T11:59:09.877180Z",
     "start_time": "2022-07-22T11:59:09.865590Z"
    }
   },
   "outputs": [
    {
     "name": "stdout",
     "output_type": "stream",
     "text": [
      "mean : [-0.  0.  0.]\n",
      "std : [1. 1. 1.]\n"
     ]
    }
   ],
   "source": [
    "# Print mean & std\n",
    "print('mean :', datamart_normalized.mean(axis=0).round(2))\n",
    "print('std :', datamart_normalized.std(axis=0).round(2))"
   ]
  },
  {
   "cell_type": "markdown",
   "id": "d07820cf",
   "metadata": {},
   "source": [
    "# Preprocessing pipeline"
   ]
  },
  {
   "cell_type": "markdown",
   "id": "ed908188",
   "metadata": {},
   "source": [
    "**Why the sequence matters ?**\n",
    "- Log tranformation only works with positive data\n",
    "- Normalization forces data to have negative values and log will not work"
   ]
  },
  {
   "cell_type": "markdown",
   "id": "5939fcbf",
   "metadata": {},
   "source": [
    "**Sequence :**\n",
    "1. Unskew the data - log transformation\n",
    "2. Standardize to the same average values\n",
    "3. Scale to the same std\n",
    "4. Store as a seperate array to be used for clustering"
   ]
  },
  {
   "cell_type": "code",
   "execution_count": 15,
   "id": "d5782741",
   "metadata": {
    "ExecuteTime": {
     "end_time": "2022-07-22T11:59:09.893293Z",
     "start_time": "2022-07-22T11:59:09.881770Z"
    }
   },
   "outputs": [
    {
     "data": {
      "text/html": [
       "<div>\n",
       "<style scoped>\n",
       "    .dataframe tbody tr th:only-of-type {\n",
       "        vertical-align: middle;\n",
       "    }\n",
       "\n",
       "    .dataframe tbody tr th {\n",
       "        vertical-align: top;\n",
       "    }\n",
       "\n",
       "    .dataframe thead th {\n",
       "        text-align: right;\n",
       "    }\n",
       "</style>\n",
       "<table border=\"1\" class=\"dataframe\">\n",
       "  <thead>\n",
       "    <tr style=\"text-align: right;\">\n",
       "      <th></th>\n",
       "      <th>Recency</th>\n",
       "      <th>Frequency</th>\n",
       "      <th>MonetaryValue</th>\n",
       "    </tr>\n",
       "  </thead>\n",
       "  <tbody>\n",
       "    <tr>\n",
       "      <th>0</th>\n",
       "      <td>2</td>\n",
       "      <td>27</td>\n",
       "      <td>992.82</td>\n",
       "    </tr>\n",
       "    <tr>\n",
       "      <th>1</th>\n",
       "      <td>1</td>\n",
       "      <td>967</td>\n",
       "      <td>7522.06</td>\n",
       "    </tr>\n",
       "    <tr>\n",
       "      <th>2</th>\n",
       "      <td>4</td>\n",
       "      <td>37</td>\n",
       "      <td>813.45</td>\n",
       "    </tr>\n",
       "    <tr>\n",
       "      <th>3</th>\n",
       "      <td>3</td>\n",
       "      <td>17</td>\n",
       "      <td>268.02</td>\n",
       "    </tr>\n",
       "    <tr>\n",
       "      <th>4</th>\n",
       "      <td>71</td>\n",
       "      <td>9</td>\n",
       "      <td>146.15</td>\n",
       "    </tr>\n",
       "  </tbody>\n",
       "</table>\n",
       "</div>"
      ],
      "text/plain": [
       "   Recency  Frequency  MonetaryValue\n",
       "0        2         27         992.82\n",
       "1        1        967        7522.06\n",
       "2        4         37         813.45\n",
       "3        3         17         268.02\n",
       "4       71          9         146.15"
      ]
     },
     "execution_count": 15,
     "metadata": {},
     "output_type": "execute_result"
    }
   ],
   "source": [
    "datamart_RFM.head()"
   ]
  },
  {
   "cell_type": "code",
   "execution_count": 16,
   "id": "ee04eb60",
   "metadata": {
    "ExecuteTime": {
     "end_time": "2022-07-22T11:59:09.977036Z",
     "start_time": "2022-07-22T11:59:09.895823Z"
    }
   },
   "outputs": [],
   "source": [
    "# 1. Unskew the data\n",
    "datamart_log = np.log(datamart_RFM)\n",
    "\n",
    "# 2. Normalize the variables\n",
    "scaler = StandardScaler()\n",
    "scaler.fit(datamart_log)\n",
    "\n",
    "# 3. Store for clustering\n",
    "datamart_normalized = scaler.transform(datamart_log)"
   ]
  },
  {
   "cell_type": "markdown",
   "id": "a78357b9",
   "metadata": {},
   "source": [
    "We are now ready to run k-means clustering and identify valuable customer segments."
   ]
  },
  {
   "cell_type": "markdown",
   "id": "0b590534",
   "metadata": {
    "ExecuteTime": {
     "end_time": "2022-07-21T14:41:21.491675Z",
     "start_time": "2022-07-21T14:41:21.488239Z"
    }
   },
   "source": [
    "# Practical implementation of k-means clustering"
   ]
  },
  {
   "cell_type": "markdown",
   "id": "6262428d",
   "metadata": {},
   "source": [
    "**Key steps :**\n",
    "- Data pre-processing (see previous cell)\n",
    "- Choosing a number of clusters\n",
    "- Running k-means clustering on pre-processed data\n",
    "- Analyzing average RFM values of each cluster"
   ]
  },
  {
   "cell_type": "code",
   "execution_count": 17,
   "id": "8380c298",
   "metadata": {
    "ExecuteTime": {
     "end_time": "2022-07-22T11:59:11.418691Z",
     "start_time": "2022-07-22T11:59:09.980522Z"
    }
   },
   "outputs": [
    {
     "data": {
      "text/plain": [
       "array([0, 0, 0, ..., 1, 0, 0], dtype=int32)"
      ]
     },
     "execution_count": 17,
     "metadata": {},
     "output_type": "execute_result"
    }
   ],
   "source": [
    "# Running K-means\n",
    "\n",
    "# Use Kmeans\n",
    "kmeans = KMeans(n_clusters=2, random_state=1)\n",
    "\n",
    "# Compute k-means clustering on pre processed data\n",
    "kmeans.fit(datamart_normalized)\n",
    "\n",
    "# Extract cluster labels\n",
    "cluster_labels = kmeans.labels_\n",
    "cluster_labels"
   ]
  },
  {
   "cell_type": "code",
   "execution_count": 18,
   "id": "b0e87c6e",
   "metadata": {
    "ExecuteTime": {
     "end_time": "2022-07-22T11:59:11.433315Z",
     "start_time": "2022-07-22T11:59:11.421703Z"
    }
   },
   "outputs": [
    {
     "data": {
      "text/html": [
       "<div>\n",
       "<style scoped>\n",
       "    .dataframe tbody tr th:only-of-type {\n",
       "        vertical-align: middle;\n",
       "    }\n",
       "\n",
       "    .dataframe tbody tr th {\n",
       "        vertical-align: top;\n",
       "    }\n",
       "\n",
       "    .dataframe thead th {\n",
       "        text-align: right;\n",
       "    }\n",
       "</style>\n",
       "<table border=\"1\" class=\"dataframe\">\n",
       "  <thead>\n",
       "    <tr style=\"text-align: right;\">\n",
       "      <th></th>\n",
       "      <th>Recency</th>\n",
       "      <th>Frequency</th>\n",
       "      <th>MonetaryValue</th>\n",
       "      <th>Cluster</th>\n",
       "    </tr>\n",
       "  </thead>\n",
       "  <tbody>\n",
       "    <tr>\n",
       "      <th>0</th>\n",
       "      <td>2</td>\n",
       "      <td>27</td>\n",
       "      <td>992.82</td>\n",
       "      <td>0</td>\n",
       "    </tr>\n",
       "    <tr>\n",
       "      <th>1</th>\n",
       "      <td>1</td>\n",
       "      <td>967</td>\n",
       "      <td>7522.06</td>\n",
       "      <td>0</td>\n",
       "    </tr>\n",
       "    <tr>\n",
       "      <th>2</th>\n",
       "      <td>4</td>\n",
       "      <td>37</td>\n",
       "      <td>813.45</td>\n",
       "      <td>0</td>\n",
       "    </tr>\n",
       "    <tr>\n",
       "      <th>3</th>\n",
       "      <td>3</td>\n",
       "      <td>17</td>\n",
       "      <td>268.02</td>\n",
       "      <td>0</td>\n",
       "    </tr>\n",
       "    <tr>\n",
       "      <th>4</th>\n",
       "      <td>71</td>\n",
       "      <td>9</td>\n",
       "      <td>146.15</td>\n",
       "      <td>1</td>\n",
       "    </tr>\n",
       "  </tbody>\n",
       "</table>\n",
       "</div>"
      ],
      "text/plain": [
       "   Recency  Frequency  MonetaryValue  Cluster\n",
       "0        2         27         992.82        0\n",
       "1        1        967        7522.06        0\n",
       "2        4         37         813.45        0\n",
       "3        3         17         268.02        0\n",
       "4       71          9         146.15        1"
      ]
     },
     "execution_count": 18,
     "metadata": {},
     "output_type": "execute_result"
    }
   ],
   "source": [
    "# Analyzing average RFM values of each cluster\n",
    "\n",
    "# Create a cluster label column\n",
    "datamart_RFM_k2 = datamart_RFM.assign(Cluster = cluster_labels)\n",
    "datamart_RFM_k2.head()"
   ]
  },
  {
   "cell_type": "code",
   "execution_count": 19,
   "id": "43181ecc",
   "metadata": {
    "ExecuteTime": {
     "end_time": "2022-07-22T11:59:11.469937Z",
     "start_time": "2022-07-22T11:59:11.437622Z"
    }
   },
   "outputs": [
    {
     "data": {
      "text/html": [
       "<div>\n",
       "<style scoped>\n",
       "    .dataframe tbody tr th:only-of-type {\n",
       "        vertical-align: middle;\n",
       "    }\n",
       "\n",
       "    .dataframe tbody tr th {\n",
       "        vertical-align: top;\n",
       "    }\n",
       "\n",
       "    .dataframe thead tr th {\n",
       "        text-align: left;\n",
       "    }\n",
       "\n",
       "    .dataframe thead tr:last-of-type th {\n",
       "        text-align: right;\n",
       "    }\n",
       "</style>\n",
       "<table border=\"1\" class=\"dataframe\">\n",
       "  <thead>\n",
       "    <tr>\n",
       "      <th></th>\n",
       "      <th>Recency</th>\n",
       "      <th>Frequency</th>\n",
       "      <th colspan=\"2\" halign=\"left\">MonetaryValue</th>\n",
       "    </tr>\n",
       "    <tr>\n",
       "      <th></th>\n",
       "      <th>mean</th>\n",
       "      <th>mean</th>\n",
       "      <th>mean</th>\n",
       "      <th>count</th>\n",
       "    </tr>\n",
       "    <tr>\n",
       "      <th>Cluster</th>\n",
       "      <th></th>\n",
       "      <th></th>\n",
       "      <th></th>\n",
       "      <th></th>\n",
       "    </tr>\n",
       "  </thead>\n",
       "  <tbody>\n",
       "    <tr>\n",
       "      <th>0</th>\n",
       "      <td>33.0</td>\n",
       "      <td>36.0</td>\n",
       "      <td>730.0</td>\n",
       "      <td>1675</td>\n",
       "    </tr>\n",
       "    <tr>\n",
       "      <th>1</th>\n",
       "      <td>145.0</td>\n",
       "      <td>5.0</td>\n",
       "      <td>92.0</td>\n",
       "      <td>2026</td>\n",
       "    </tr>\n",
       "  </tbody>\n",
       "</table>\n",
       "</div>"
      ],
      "text/plain": [
       "        Recency Frequency MonetaryValue      \n",
       "           mean      mean          mean count\n",
       "Cluster                                      \n",
       "0          33.0      36.0         730.0  1675\n",
       "1         145.0       5.0          92.0  2026"
      ]
     },
     "execution_count": 19,
     "metadata": {},
     "output_type": "execute_result"
    }
   ],
   "source": [
    "# Calculate average RFM values and size for each cluster\n",
    "datamart_RFM_k2.groupby(['Cluster']).agg({\n",
    "    'Recency' : 'mean',\n",
    "    'Frequency': 'mean',\n",
    "    'MonetaryValue': ['mean', 'count']\n",
    "}).round(0)"
   ]
  },
  {
   "cell_type": "markdown",
   "id": "6a06572b",
   "metadata": {},
   "source": [
    "# Choosing the number of clusters"
   ]
  },
  {
   "cell_type": "markdown",
   "id": "61671a64",
   "metadata": {},
   "source": [
    "**Methods to define the number of clusters :**\n",
    "- Visual methods - elbow criterion\n",
    "- Mathematical methods - silhouette coefficient\n",
    "- Experimentation and interpretation"
   ]
  },
  {
   "cell_type": "markdown",
   "id": "c0ba2d52",
   "metadata": {},
   "source": [
    "**Elbow criterion method :**\n",
    "- Plot the number of clusters against within-cluster sum-of-squared-errors (SSE) - sum of squared distances from every data point to their cluster center\n",
    "- Identify an 'elbow' in the plot\n",
    "- Elbow - a point representing an 'optimal' number of clusters"
   ]
  },
  {
   "cell_type": "code",
   "execution_count": 20,
   "id": "7ac2bc35",
   "metadata": {
    "ExecuteTime": {
     "end_time": "2022-07-22T11:59:27.135856Z",
     "start_time": "2022-07-22T11:59:11.474185Z"
    }
   },
   "outputs": [
    {
     "data": {
      "image/png": "[encoded data removed]",
      "text/plain": [
       "<Figure size 432x288 with 1 Axes>"
      ]
     },
     "metadata": {
      "needs_background": "light"
     },
     "output_type": "display_data"
    }
   ],
   "source": [
    "# Fit Kmeans and calculate SSE for each k\n",
    "sse = {}\n",
    "\n",
    "for k in range(1,11):\n",
    "    kmeans = KMeans(n_clusters=k, random_state=1)\n",
    "    kmeans.fit(datamart_normalized)\n",
    "    sse[k] = kmeans.inertia_ # sum of squared distances to closest cluster center\n",
    "    \n",
    "# Plot SSE for each k\n",
    "plt.title('Elbow method')\n",
    "plt.xlabel('k')\n",
    "plt.ylabel('SSE')\n",
    "sns.pointplot(x=list(sse.keys()), y=list(sse.values()))\n",
    "plt.show()"
   ]
  },
  {
   "cell_type": "markdown",
   "id": "825416e6",
   "metadata": {},
   "source": [
    "**Using elbow criterion method :**\n",
    "- Best to choose the point on elbow, or the next point\n",
    "- Use as a guide but test multiple solutions !!"
   ]
  },
  {
   "cell_type": "markdown",
   "id": "80aa256d",
   "metadata": {},
   "source": [
    "**Experimental approach - analyze segments :**\n",
    "- Build clustering at and around elbow solution\n",
    "- Analyze their properties - average RFM values\n",
    "- Compare against each other and choose one which makes most business sense"
   ]
  },
  {
   "cell_type": "code",
   "execution_count": 21,
   "id": "6cb9dd41",
   "metadata": {
    "ExecuteTime": {
     "end_time": "2022-07-22T11:59:28.664677Z",
     "start_time": "2022-07-22T11:59:27.139013Z"
    }
   },
   "outputs": [
    {
     "data": {
      "text/plain": [
       "array([0, 0, 0, ..., 1, 0, 2], dtype=int32)"
      ]
     },
     "execution_count": 21,
     "metadata": {},
     "output_type": "execute_result"
    }
   ],
   "source": [
    "# Kmeans withn 3 segments\n",
    "# Use Kmeans\n",
    "kmeans = KMeans(n_clusters=3, random_state=1)\n",
    "\n",
    "# Compute k-means clustering on pre processed data\n",
    "kmeans.fit(datamart_normalized)\n",
    "\n",
    "# Extract cluster labels\n",
    "cluster_labels = kmeans.labels_\n",
    "cluster_labels"
   ]
  },
  {
   "cell_type": "code",
   "execution_count": 22,
   "id": "e06f3531",
   "metadata": {
    "ExecuteTime": {
     "end_time": "2022-07-22T11:59:28.680632Z",
     "start_time": "2022-07-22T11:59:28.667088Z"
    }
   },
   "outputs": [
    {
     "data": {
      "text/html": [
       "<div>\n",
       "<style scoped>\n",
       "    .dataframe tbody tr th:only-of-type {\n",
       "        vertical-align: middle;\n",
       "    }\n",
       "\n",
       "    .dataframe tbody tr th {\n",
       "        vertical-align: top;\n",
       "    }\n",
       "\n",
       "    .dataframe thead th {\n",
       "        text-align: right;\n",
       "    }\n",
       "</style>\n",
       "<table border=\"1\" class=\"dataframe\">\n",
       "  <thead>\n",
       "    <tr style=\"text-align: right;\">\n",
       "      <th></th>\n",
       "      <th>Recency</th>\n",
       "      <th>Frequency</th>\n",
       "      <th>MonetaryValue</th>\n",
       "      <th>Cluster</th>\n",
       "    </tr>\n",
       "  </thead>\n",
       "  <tbody>\n",
       "    <tr>\n",
       "      <th>0</th>\n",
       "      <td>2</td>\n",
       "      <td>27</td>\n",
       "      <td>992.82</td>\n",
       "      <td>0</td>\n",
       "    </tr>\n",
       "    <tr>\n",
       "      <th>1</th>\n",
       "      <td>1</td>\n",
       "      <td>967</td>\n",
       "      <td>7522.06</td>\n",
       "      <td>0</td>\n",
       "    </tr>\n",
       "    <tr>\n",
       "      <th>2</th>\n",
       "      <td>4</td>\n",
       "      <td>37</td>\n",
       "      <td>813.45</td>\n",
       "      <td>0</td>\n",
       "    </tr>\n",
       "    <tr>\n",
       "      <th>3</th>\n",
       "      <td>3</td>\n",
       "      <td>17</td>\n",
       "      <td>268.02</td>\n",
       "      <td>0</td>\n",
       "    </tr>\n",
       "    <tr>\n",
       "      <th>4</th>\n",
       "      <td>71</td>\n",
       "      <td>9</td>\n",
       "      <td>146.15</td>\n",
       "      <td>2</td>\n",
       "    </tr>\n",
       "  </tbody>\n",
       "</table>\n",
       "</div>"
      ],
      "text/plain": [
       "   Recency  Frequency  MonetaryValue  Cluster\n",
       "0        2         27         992.82        0\n",
       "1        1        967        7522.06        0\n",
       "2        4         37         813.45        0\n",
       "3        3         17         268.02        0\n",
       "4       71          9         146.15        2"
      ]
     },
     "execution_count": 22,
     "metadata": {},
     "output_type": "execute_result"
    }
   ],
   "source": [
    "# Create a cluster label column\n",
    "datamart_RFM_k3 = datamart_RFM.assign(Cluster = cluster_labels)\n",
    "datamart_RFM_k3.head()"
   ]
  },
  {
   "cell_type": "code",
   "execution_count": 23,
   "id": "78b9478a",
   "metadata": {
    "ExecuteTime": {
     "end_time": "2022-07-22T11:59:28.708384Z",
     "start_time": "2022-07-22T11:59:28.683431Z"
    },
    "scrolled": true
   },
   "outputs": [
    {
     "data": {
      "text/html": [
       "<div>\n",
       "<style scoped>\n",
       "    .dataframe tbody tr th:only-of-type {\n",
       "        vertical-align: middle;\n",
       "    }\n",
       "\n",
       "    .dataframe tbody tr th {\n",
       "        vertical-align: top;\n",
       "    }\n",
       "\n",
       "    .dataframe thead tr th {\n",
       "        text-align: left;\n",
       "    }\n",
       "\n",
       "    .dataframe thead tr:last-of-type th {\n",
       "        text-align: right;\n",
       "    }\n",
       "</style>\n",
       "<table border=\"1\" class=\"dataframe\">\n",
       "  <thead>\n",
       "    <tr>\n",
       "      <th></th>\n",
       "      <th>Recency</th>\n",
       "      <th>Frequency</th>\n",
       "      <th colspan=\"2\" halign=\"left\">MonetaryValue</th>\n",
       "    </tr>\n",
       "    <tr>\n",
       "      <th></th>\n",
       "      <th>mean</th>\n",
       "      <th>mean</th>\n",
       "      <th>mean</th>\n",
       "      <th>count</th>\n",
       "    </tr>\n",
       "    <tr>\n",
       "      <th>Cluster</th>\n",
       "      <th></th>\n",
       "      <th></th>\n",
       "      <th></th>\n",
       "      <th></th>\n",
       "    </tr>\n",
       "  </thead>\n",
       "  <tbody>\n",
       "    <tr>\n",
       "      <th>0</th>\n",
       "      <td>14.0</td>\n",
       "      <td>53.0</td>\n",
       "      <td>1128.0</td>\n",
       "      <td>855</td>\n",
       "    </tr>\n",
       "    <tr>\n",
       "      <th>1</th>\n",
       "      <td>172.0</td>\n",
       "      <td>3.0</td>\n",
       "      <td>55.0</td>\n",
       "      <td>1225</td>\n",
       "    </tr>\n",
       "    <tr>\n",
       "      <th>2</th>\n",
       "      <td>78.0</td>\n",
       "      <td>14.0</td>\n",
       "      <td>232.0</td>\n",
       "      <td>1621</td>\n",
       "    </tr>\n",
       "  </tbody>\n",
       "</table>\n",
       "</div>"
      ],
      "text/plain": [
       "        Recency Frequency MonetaryValue      \n",
       "           mean      mean          mean count\n",
       "Cluster                                      \n",
       "0          14.0      53.0        1128.0   855\n",
       "1         172.0       3.0          55.0  1225\n",
       "2          78.0      14.0         232.0  1621"
      ]
     },
     "execution_count": 23,
     "metadata": {},
     "output_type": "execute_result"
    }
   ],
   "source": [
    "# Calculate average RFM values and size for each cluster\n",
    "datamart_RFM_k3.groupby(['Cluster']).agg({\n",
    "    'Recency' : 'mean',\n",
    "    'Frequency': 'mean',\n",
    "    'MonetaryValue': ['mean', 'count']\n",
    "}).round(0)"
   ]
  },
  {
   "cell_type": "markdown",
   "id": "b8b2c863",
   "metadata": {},
   "source": [
    "Here, While it does identify the least attractive segments and cluster number 1, it does break down the higher value segments into two: segment zero and segment two. It's up to the analyst and the business partners to review the segments and make the call on which solutions make more sense."
   ]
  },
  {
   "cell_type": "markdown",
   "id": "82030cd3",
   "metadata": {},
   "source": [
    "# Profile and interpret segments"
   ]
  },
  {
   "cell_type": "markdown",
   "id": "c63ef009",
   "metadata": {},
   "source": [
    "**Approaches to build customer personas :**\n",
    "- Summary statistics for each cluster e.g. average RFM values\n",
    "- Snake plots (from market research)\n",
    "- Relative importance of cluster attributes compared to population"
   ]
  },
  {
   "cell_type": "markdown",
   "id": "30bdc065",
   "metadata": {},
   "source": [
    "**Summary statistics for 2 and 3 clusters :**"
   ]
  },
  {
   "cell_type": "code",
   "execution_count": 24,
   "id": "a9bed6ed",
   "metadata": {
    "ExecuteTime": {
     "end_time": "2022-07-22T11:59:28.732521Z",
     "start_time": "2022-07-22T11:59:28.711516Z"
    }
   },
   "outputs": [
    {
     "data": {
      "text/html": [
       "<div>\n",
       "<style scoped>\n",
       "    .dataframe tbody tr th:only-of-type {\n",
       "        vertical-align: middle;\n",
       "    }\n",
       "\n",
       "    .dataframe tbody tr th {\n",
       "        vertical-align: top;\n",
       "    }\n",
       "\n",
       "    .dataframe thead tr th {\n",
       "        text-align: left;\n",
       "    }\n",
       "\n",
       "    .dataframe thead tr:last-of-type th {\n",
       "        text-align: right;\n",
       "    }\n",
       "</style>\n",
       "<table border=\"1\" class=\"dataframe\">\n",
       "  <thead>\n",
       "    <tr>\n",
       "      <th></th>\n",
       "      <th>Recency</th>\n",
       "      <th>Frequency</th>\n",
       "      <th colspan=\"2\" halign=\"left\">MonetaryValue</th>\n",
       "    </tr>\n",
       "    <tr>\n",
       "      <th></th>\n",
       "      <th>mean</th>\n",
       "      <th>mean</th>\n",
       "      <th>mean</th>\n",
       "      <th>count</th>\n",
       "    </tr>\n",
       "    <tr>\n",
       "      <th>Cluster</th>\n",
       "      <th></th>\n",
       "      <th></th>\n",
       "      <th></th>\n",
       "      <th></th>\n",
       "    </tr>\n",
       "  </thead>\n",
       "  <tbody>\n",
       "    <tr>\n",
       "      <th>0</th>\n",
       "      <td>33.0</td>\n",
       "      <td>36.0</td>\n",
       "      <td>730.0</td>\n",
       "      <td>1675</td>\n",
       "    </tr>\n",
       "    <tr>\n",
       "      <th>1</th>\n",
       "      <td>145.0</td>\n",
       "      <td>5.0</td>\n",
       "      <td>92.0</td>\n",
       "      <td>2026</td>\n",
       "    </tr>\n",
       "  </tbody>\n",
       "</table>\n",
       "</div>"
      ],
      "text/plain": [
       "        Recency Frequency MonetaryValue      \n",
       "           mean      mean          mean count\n",
       "Cluster                                      \n",
       "0          33.0      36.0         730.0  1675\n",
       "1         145.0       5.0          92.0  2026"
      ]
     },
     "execution_count": 24,
     "metadata": {},
     "output_type": "execute_result"
    }
   ],
   "source": [
    "# Summary stat for 2 clusters\n",
    "datamart_RFM_k2.groupby(['Cluster']).agg({\n",
    "    'Recency' : 'mean',\n",
    "    'Frequency': 'mean',\n",
    "    'MonetaryValue': ['mean', 'count']\n",
    "}).round(0)"
   ]
  },
  {
   "cell_type": "code",
   "execution_count": 25,
   "id": "711944d5",
   "metadata": {
    "ExecuteTime": {
     "end_time": "2022-07-22T11:59:28.773130Z",
     "start_time": "2022-07-22T11:59:28.734857Z"
    }
   },
   "outputs": [
    {
     "data": {
      "text/html": [
       "<div>\n",
       "<style scoped>\n",
       "    .dataframe tbody tr th:only-of-type {\n",
       "        vertical-align: middle;\n",
       "    }\n",
       "\n",
       "    .dataframe tbody tr th {\n",
       "        vertical-align: top;\n",
       "    }\n",
       "\n",
       "    .dataframe thead tr th {\n",
       "        text-align: left;\n",
       "    }\n",
       "\n",
       "    .dataframe thead tr:last-of-type th {\n",
       "        text-align: right;\n",
       "    }\n",
       "</style>\n",
       "<table border=\"1\" class=\"dataframe\">\n",
       "  <thead>\n",
       "    <tr>\n",
       "      <th></th>\n",
       "      <th>Recency</th>\n",
       "      <th>Frequency</th>\n",
       "      <th colspan=\"2\" halign=\"left\">MonetaryValue</th>\n",
       "    </tr>\n",
       "    <tr>\n",
       "      <th></th>\n",
       "      <th>mean</th>\n",
       "      <th>mean</th>\n",
       "      <th>mean</th>\n",
       "      <th>count</th>\n",
       "    </tr>\n",
       "    <tr>\n",
       "      <th>Cluster</th>\n",
       "      <th></th>\n",
       "      <th></th>\n",
       "      <th></th>\n",
       "      <th></th>\n",
       "    </tr>\n",
       "  </thead>\n",
       "  <tbody>\n",
       "    <tr>\n",
       "      <th>0</th>\n",
       "      <td>14.0</td>\n",
       "      <td>53.0</td>\n",
       "      <td>1128.0</td>\n",
       "      <td>855</td>\n",
       "    </tr>\n",
       "    <tr>\n",
       "      <th>1</th>\n",
       "      <td>172.0</td>\n",
       "      <td>3.0</td>\n",
       "      <td>55.0</td>\n",
       "      <td>1225</td>\n",
       "    </tr>\n",
       "    <tr>\n",
       "      <th>2</th>\n",
       "      <td>78.0</td>\n",
       "      <td>14.0</td>\n",
       "      <td>232.0</td>\n",
       "      <td>1621</td>\n",
       "    </tr>\n",
       "  </tbody>\n",
       "</table>\n",
       "</div>"
      ],
      "text/plain": [
       "        Recency Frequency MonetaryValue      \n",
       "           mean      mean          mean count\n",
       "Cluster                                      \n",
       "0          14.0      53.0        1128.0   855\n",
       "1         172.0       3.0          55.0  1225\n",
       "2          78.0      14.0         232.0  1621"
      ]
     },
     "execution_count": 25,
     "metadata": {},
     "output_type": "execute_result"
    }
   ],
   "source": [
    "# Summary stat for 3 clusters\n",
    "datamart_RFM_k3.groupby(['Cluster']).agg({\n",
    "    'Recency' : 'mean',\n",
    "    'Frequency': 'mean',\n",
    "    'MonetaryValue': ['mean', 'count']\n",
    "}).round(0)"
   ]
  },
  {
   "cell_type": "markdown",
   "id": "dbd6e1c2",
   "metadata": {},
   "source": [
    "There are some inherent differences between the 2-segment and 3-segment solutions. While the former is simpler, **the 3-segment solution gives more insights.**"
   ]
  },
  {
   "cell_type": "markdown",
   "id": "e5002c30",
   "metadata": {},
   "source": [
    "**Snake plots to understand and compare segments :**\n",
    "- Market research technique to compare different segments\n",
    "- Visual representation of each segment's attributes\n",
    "- Need to first normalize data (center & scale)\n",
    "- Plot each cluster's average normalized values of each attribute"
   ]
  },
  {
   "cell_type": "code",
   "execution_count": 26,
   "id": "3ce7eb1b",
   "metadata": {
    "ExecuteTime": {
     "end_time": "2022-07-22T11:59:28.783508Z",
     "start_time": "2022-07-22T11:59:28.776797Z"
    }
   },
   "outputs": [],
   "source": [
    "# Transform datamart_normalized as DataFrame and add Cluster column\n",
    "datamart_normalized = pd.DataFrame(datamart_normalized,\n",
    "                                   index=datamart_RFM.index,\n",
    "                                   columns=datamart_RFM.columns)\n",
    "datamart_normalized['Cluster'] = datamart_RFM_k3['Cluster']"
   ]
  },
  {
   "cell_type": "code",
   "execution_count": 27,
   "id": "ff9ee498",
   "metadata": {
    "ExecuteTime": {
     "end_time": "2022-07-22T11:59:28.805890Z",
     "start_time": "2022-07-22T11:59:28.789639Z"
    }
   },
   "outputs": [
    {
     "data": {
      "text/html": [
       "<div>\n",
       "<style scoped>\n",
       "    .dataframe tbody tr th:only-of-type {\n",
       "        vertical-align: middle;\n",
       "    }\n",
       "\n",
       "    .dataframe tbody tr th {\n",
       "        vertical-align: top;\n",
       "    }\n",
       "\n",
       "    .dataframe thead th {\n",
       "        text-align: right;\n",
       "    }\n",
       "</style>\n",
       "<table border=\"1\" class=\"dataframe\">\n",
       "  <thead>\n",
       "    <tr style=\"text-align: right;\">\n",
       "      <th></th>\n",
       "      <th>Recency</th>\n",
       "      <th>Frequency</th>\n",
       "      <th>MonetaryValue</th>\n",
       "      <th>Cluster</th>\n",
       "    </tr>\n",
       "  </thead>\n",
       "  <tbody>\n",
       "    <tr>\n",
       "      <th>0</th>\n",
       "      <td>-2.195642</td>\n",
       "      <td>0.909521</td>\n",
       "      <td>1.482882</td>\n",
       "      <td>0</td>\n",
       "    </tr>\n",
       "    <tr>\n",
       "      <th>1</th>\n",
       "      <td>-2.684553</td>\n",
       "      <td>3.845050</td>\n",
       "      <td>3.022433</td>\n",
       "      <td>0</td>\n",
       "    </tr>\n",
       "    <tr>\n",
       "      <th>2</th>\n",
       "      <td>-1.706731</td>\n",
       "      <td>1.168000</td>\n",
       "      <td>1.331390</td>\n",
       "      <td>0</td>\n",
       "    </tr>\n",
       "    <tr>\n",
       "      <th>3</th>\n",
       "      <td>-1.909647</td>\n",
       "      <td>0.530005</td>\n",
       "      <td>0.487337</td>\n",
       "      <td>0</td>\n",
       "    </tr>\n",
       "    <tr>\n",
       "      <th>4</th>\n",
       "      <td>0.322128</td>\n",
       "      <td>0.008268</td>\n",
       "      <td>0.026297</td>\n",
       "      <td>2</td>\n",
       "    </tr>\n",
       "  </tbody>\n",
       "</table>\n",
       "</div>"
      ],
      "text/plain": [
       "    Recency  Frequency  MonetaryValue  Cluster\n",
       "0 -2.195642   0.909521       1.482882        0\n",
       "1 -2.684553   3.845050       3.022433        0\n",
       "2 -1.706731   1.168000       1.331390        0\n",
       "3 -1.909647   0.530005       0.487337        0\n",
       "4  0.322128   0.008268       0.026297        2"
      ]
     },
     "execution_count": 27,
     "metadata": {},
     "output_type": "execute_result"
    }
   ],
   "source": [
    "datamart_normalized.head()"
   ]
  },
  {
   "cell_type": "code",
   "execution_count": 28,
   "id": "e763a101",
   "metadata": {
    "ExecuteTime": {
     "end_time": "2022-07-22T11:59:28.836221Z",
     "start_time": "2022-07-22T11:59:28.811709Z"
    }
   },
   "outputs": [
    {
     "data": {
      "text/html": [
       "<div>\n",
       "<style scoped>\n",
       "    .dataframe tbody tr th:only-of-type {\n",
       "        vertical-align: middle;\n",
       "    }\n",
       "\n",
       "    .dataframe tbody tr th {\n",
       "        vertical-align: top;\n",
       "    }\n",
       "\n",
       "    .dataframe thead th {\n",
       "        text-align: right;\n",
       "    }\n",
       "</style>\n",
       "<table border=\"1\" class=\"dataframe\">\n",
       "  <thead>\n",
       "    <tr style=\"text-align: right;\">\n",
       "      <th></th>\n",
       "      <th>Cluster</th>\n",
       "      <th>Attribute</th>\n",
       "      <th>Value</th>\n",
       "    </tr>\n",
       "  </thead>\n",
       "  <tbody>\n",
       "    <tr>\n",
       "      <th>0</th>\n",
       "      <td>0</td>\n",
       "      <td>Recency</td>\n",
       "      <td>-2.195642</td>\n",
       "    </tr>\n",
       "    <tr>\n",
       "      <th>1</th>\n",
       "      <td>0</td>\n",
       "      <td>Recency</td>\n",
       "      <td>-2.684553</td>\n",
       "    </tr>\n",
       "    <tr>\n",
       "      <th>2</th>\n",
       "      <td>0</td>\n",
       "      <td>Recency</td>\n",
       "      <td>-1.706731</td>\n",
       "    </tr>\n",
       "    <tr>\n",
       "      <th>3</th>\n",
       "      <td>0</td>\n",
       "      <td>Recency</td>\n",
       "      <td>-1.909647</td>\n",
       "    </tr>\n",
       "    <tr>\n",
       "      <th>4</th>\n",
       "      <td>2</td>\n",
       "      <td>Recency</td>\n",
       "      <td>0.322128</td>\n",
       "    </tr>\n",
       "    <tr>\n",
       "      <th>...</th>\n",
       "      <td>...</td>\n",
       "      <td>...</td>\n",
       "      <td>...</td>\n",
       "    </tr>\n",
       "    <tr>\n",
       "      <th>11098</th>\n",
       "      <td>1</td>\n",
       "      <td>MonetaryValue</td>\n",
       "      <td>-0.983925</td>\n",
       "    </tr>\n",
       "    <tr>\n",
       "      <th>11099</th>\n",
       "      <td>1</td>\n",
       "      <td>MonetaryValue</td>\n",
       "      <td>-1.133219</td>\n",
       "    </tr>\n",
       "    <tr>\n",
       "      <th>11100</th>\n",
       "      <td>1</td>\n",
       "      <td>MonetaryValue</td>\n",
       "      <td>-1.159983</td>\n",
       "    </tr>\n",
       "    <tr>\n",
       "      <th>11101</th>\n",
       "      <td>0</td>\n",
       "      <td>MonetaryValue</td>\n",
       "      <td>0.851890</td>\n",
       "    </tr>\n",
       "    <tr>\n",
       "      <th>11102</th>\n",
       "      <td>2</td>\n",
       "      <td>MonetaryValue</td>\n",
       "      <td>0.783644</td>\n",
       "    </tr>\n",
       "  </tbody>\n",
       "</table>\n",
       "<p>11103 rows × 3 columns</p>\n",
       "</div>"
      ],
      "text/plain": [
       "       Cluster      Attribute     Value\n",
       "0            0        Recency -2.195642\n",
       "1            0        Recency -2.684553\n",
       "2            0        Recency -1.706731\n",
       "3            0        Recency -1.909647\n",
       "4            2        Recency  0.322128\n",
       "...        ...            ...       ...\n",
       "11098        1  MonetaryValue -0.983925\n",
       "11099        1  MonetaryValue -1.133219\n",
       "11100        1  MonetaryValue -1.159983\n",
       "11101        0  MonetaryValue  0.851890\n",
       "11102        2  MonetaryValue  0.783644\n",
       "\n",
       "[11103 rows x 3 columns]"
      ]
     },
     "execution_count": 28,
     "metadata": {},
     "output_type": "execute_result"
    }
   ],
   "source": [
    "# Melt the data into a long format so RFM values and metric names are stored in 1 column each\n",
    "datamart_melt = pd.melt(datamart_normalized.reset_index(),\n",
    "                        id_vars=['Cluster'], # CustomerID is missing !\n",
    "                        value_vars=['Recency', 'Frequency', 'MonetaryValue'],\n",
    "                        var_name='Attribute',\n",
    "                        value_name='Value'\n",
    "                       )\n",
    "datamart_melt"
   ]
  },
  {
   "cell_type": "code",
   "execution_count": 29,
   "id": "d0e1c0de",
   "metadata": {
    "ExecuteTime": {
     "end_time": "2022-07-22T11:59:29.372952Z",
     "start_time": "2022-07-22T11:59:28.838896Z"
    },
    "scrolled": true
   },
   "outputs": [
    {
     "data": {
      "image/png": "[encoded data removed]",
      "text/plain": [
       "<Figure size 432x288 with 1 Axes>"
      ]
     },
     "metadata": {
      "needs_background": "light"
     },
     "output_type": "display_data"
    }
   ],
   "source": [
    "# Snake plot\n",
    "plt.title('Snake plot of standardized variables')\n",
    "sns.lineplot(x='Attribute', y='Value', hue='Cluster', data=datamart_melt)\n",
    "plt.show()"
   ]
  },
  {
   "cell_type": "markdown",
   "id": "585daced",
   "metadata": {},
   "source": [
    "**Relative importance of segment attributes :**\n",
    "- Usefull technique to identify relative importance of each segment's attribute"
   ]
  },
  {
   "cell_type": "code",
   "execution_count": 30,
   "id": "775f2567",
   "metadata": {
    "ExecuteTime": {
     "end_time": "2022-07-22T11:59:29.390065Z",
     "start_time": "2022-07-22T11:59:29.375718Z"
    }
   },
   "outputs": [],
   "source": [
    "# Calculate average values of each cluster\n",
    "cluster_avg = datamart_RFM_k3.groupby(['Cluster']).mean()\n",
    "\n",
    "# Calculate average values of population\n",
    "population_avg = datamart_RFM.mean()\n",
    "\n",
    "# Calculate importance score by dividing them and substracting 1 (make sure 0 is returned whaen cluster average equals population average)\n",
    "relative_imp = cluster_avg / population_avg - 1"
   ]
  },
  {
   "cell_type": "markdown",
   "id": "c631e2e3",
   "metadata": {},
   "source": [
    "**Analyze and plot relative importance :**\n",
    "- As a ratio moves away form 0, attribute importance for a segment (relative to a total pop) increases"
   ]
  },
  {
   "cell_type": "code",
   "execution_count": 31,
   "id": "74ced519",
   "metadata": {
    "ExecuteTime": {
     "end_time": "2022-07-22T11:59:29.412394Z",
     "start_time": "2022-07-22T11:59:29.392195Z"
    }
   },
   "outputs": [
    {
     "data": {
      "text/html": [
       "<div>\n",
       "<style scoped>\n",
       "    .dataframe tbody tr th:only-of-type {\n",
       "        vertical-align: middle;\n",
       "    }\n",
       "\n",
       "    .dataframe tbody tr th {\n",
       "        vertical-align: top;\n",
       "    }\n",
       "\n",
       "    .dataframe thead th {\n",
       "        text-align: right;\n",
       "    }\n",
       "</style>\n",
       "<table border=\"1\" class=\"dataframe\">\n",
       "  <thead>\n",
       "    <tr style=\"text-align: right;\">\n",
       "      <th></th>\n",
       "      <th>Recency</th>\n",
       "      <th>Frequency</th>\n",
       "      <th>MonetaryValue</th>\n",
       "    </tr>\n",
       "    <tr>\n",
       "      <th>Cluster</th>\n",
       "      <th></th>\n",
       "      <th></th>\n",
       "      <th></th>\n",
       "    </tr>\n",
       "  </thead>\n",
       "  <tbody>\n",
       "    <tr>\n",
       "      <th>0</th>\n",
       "      <td>-0.85</td>\n",
       "      <td>1.75</td>\n",
       "      <td>1.96</td>\n",
       "    </tr>\n",
       "    <tr>\n",
       "      <th>1</th>\n",
       "      <td>0.82</td>\n",
       "      <td>-0.84</td>\n",
       "      <td>-0.85</td>\n",
       "    </tr>\n",
       "    <tr>\n",
       "      <th>2</th>\n",
       "      <td>-0.17</td>\n",
       "      <td>-0.29</td>\n",
       "      <td>-0.39</td>\n",
       "    </tr>\n",
       "  </tbody>\n",
       "</table>\n",
       "</div>"
      ],
      "text/plain": [
       "         Recency  Frequency  MonetaryValue\n",
       "Cluster                                   \n",
       "0          -0.85       1.75           1.96\n",
       "1           0.82      -0.84          -0.85\n",
       "2          -0.17      -0.29          -0.39"
      ]
     },
     "execution_count": 31,
     "metadata": {},
     "output_type": "execute_result"
    }
   ],
   "source": [
    "relative_imp.round(2)"
   ]
  },
  {
   "cell_type": "code",
   "execution_count": 32,
   "id": "570caad5",
   "metadata": {
    "ExecuteTime": {
     "end_time": "2022-07-22T11:59:29.599996Z",
     "start_time": "2022-07-22T11:59:29.414309Z"
    }
   },
   "outputs": [
    {
     "data": {
      "image/png": "[encoded data removed]",
      "text/plain": [
       "<Figure size 576x144 with 2 Axes>"
      ]
     },
     "metadata": {
      "needs_background": "light"
     },
     "output_type": "display_data"
    }
   ],
   "source": [
    "# Plot heatmap\n",
    "plt.figure(figsize=(8,2))\n",
    "plt.title('Relative importance of attributes')\n",
    "sns.heatmap(data=relative_imp, annot=True, cmap='RdYlGn')\n",
    "plt.show()"
   ]
  },
  {
   "cell_type": "markdown",
   "id": "b528888a",
   "metadata": {},
   "source": [
    "# End to end segmentation solution"
   ]
  },
  {
   "cell_type": "markdown",
   "id": "2a8396e5",
   "metadata": {},
   "source": [
    "**Key steps of the segmentation project :**\n",
    "- Gather data - updated data with an additional variable\n",
    "- Pre process the data\n",
    "- Explore the data and decide on the number of clusters\n",
    "- Run k-means clustering\n",
    "- Analyze and visualize results"
   ]
  },
  {
   "cell_type": "markdown",
   "id": "f0c3c320",
   "metadata": {},
   "source": [
    "**Updated RFM data :**\n",
    "- Same RFM values plus additionnal Tenure variable\n",
    "- Tenure : time since the first transaction\n",
    "- Defines how long the customer has been with the company"
   ]
  },
  {
   "cell_type": "markdown",
   "id": "f81646ce",
   "metadata": {},
   "source": [
    "# Final thoughts"
   ]
  },
  {
   "cell_type": "markdown",
   "id": "e963b35f",
   "metadata": {},
   "source": [
    "**Resume :**\n",
    "- Cohort Analysis and visualization\n",
    "- RFM segmentation\n",
    "- Data pre processing for k means\n",
    "- Customer segmentation with k-means :\n",
    "    - Evaluating number of clusters\n",
    "    - Reviewing and visualizing segmentation solutions"
   ]
  }
 ],
 "metadata": {
  "kernelspec": {
   "display_name": "Python 3 (ipykernel)",
   "language": "python",
   "name": "python3"
  },
  "language_info": {
   "codemirror_mode": {
    "name": "ipython",
    "version": 3
   },
   "file_extension": ".py",
   "mimetype": "text/x-python",
   "name": "python",
   "nbconvert_exporter": "python",
   "pygments_lexer": "ipython3",
   "version": "3.8.12"
  },
  "toc": {
   "base_numbering": 1,
   "nav_menu": {},
   "number_sections": true,
   "sideBar": true,
   "skip_h1_title": false,
   "title_cell": "Table of Contents",
   "title_sidebar": "Contents",
   "toc_cell": false,
   "toc_position": {},
   "toc_section_display": true,
   "toc_window_display": false
  }
 },
 "nbformat": 4,
 "nbformat_minor": 5
}
