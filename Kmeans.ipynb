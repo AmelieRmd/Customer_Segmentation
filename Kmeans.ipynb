{
 "cells": [
  {
   "cell_type": "markdown",
   "id": "847beaa2",
   "metadata": {},
   "source": [
    "# Customer Segmentation with K-means"
   ]
  },
  {
   "cell_type": "markdown",
   "id": "8728d569",
   "metadata": {},
   "source": [
    "**Datacamp** : https://app.datacamp.com/learn/courses/customer-segmentation-in-python"
   ]
  },
  {
   "cell_type": "code",
   "execution_count": 2,
   "id": "7e2eeb90",
   "metadata": {
    "ExecuteTime": {
     "end_time": "2022-07-21T12:59:21.188933Z",
     "start_time": "2022-07-21T12:59:21.184162Z"
    }
   },
   "outputs": [],
   "source": [
    "import numpy as np\n",
    "import pandas as pd\n",
    "import matplotlib.pyplot as plt\n",
    "import seaborn as sns\n",
    "import datetime as dt"
   ]
  },
  {
   "cell_type": "code",
   "execution_count": 47,
   "id": "906557de",
   "metadata": {
    "ExecuteTime": {
     "end_time": "2022-07-21T14:55:05.353607Z",
     "start_time": "2022-07-21T14:55:05.349236Z"
    }
   },
   "outputs": [],
   "source": [
    "from sklearn.preprocessing import StandardScaler\n",
    "from sklearn.cluster import KMeans"
   ]
  },
  {
   "cell_type": "markdown",
   "id": "d1ab2d59",
   "metadata": {},
   "source": [
    "# Data pre-processing for k-means clustering"
   ]
  },
  {
   "cell_type": "markdown",
   "id": "2b90f6e9",
   "metadata": {},
   "source": [
    "**Advantages of k-means clustering :**\n",
    "\n",
    "- One of the most pupular unsupervised leanring method\n",
    "- Simple and fast\n",
    "- Works well (with certain assumptions about data)"
   ]
  },
  {
   "cell_type": "markdown",
   "id": "197763a0",
   "metadata": {},
   "source": [
    "**Key k-means assumptions :**\n",
    "- Symmetric distribution of variables (not skewed)\n",
    "- Variables with same average values\n",
    "- Variables with same variance"
   ]
  },
  {
   "cell_type": "markdown",
   "id": "cd37863e",
   "metadata": {},
   "source": [
    "**Skewed variables :**\n",
    "- Left-skewed or Right-skewed => skew can be removed with logarithmic tranformation (Gaussian)"
   ]
  },
  {
   "cell_type": "markdown",
   "id": "0c95d1ed",
   "metadata": {},
   "source": [
    "**Variables on the same scale :**\n",
    "- K-means assumes equal mean\n",
    "- And equal variance\n",
    "- It's not the case with RFM data"
   ]
  },
  {
   "cell_type": "code",
   "execution_count": 3,
   "id": "8622b177",
   "metadata": {
    "ExecuteTime": {
     "end_time": "2022-07-21T13:16:00.207829Z",
     "start_time": "2022-07-21T13:16:00.179596Z"
    }
   },
   "outputs": [
    {
     "data": {
      "text/html": [
       "<div>\n",
       "<style scoped>\n",
       "    .dataframe tbody tr th:only-of-type {\n",
       "        vertical-align: middle;\n",
       "    }\n",
       "\n",
       "    .dataframe tbody tr th {\n",
       "        vertical-align: top;\n",
       "    }\n",
       "\n",
       "    .dataframe thead th {\n",
       "        text-align: right;\n",
       "    }\n",
       "</style>\n",
       "<table border=\"1\" class=\"dataframe\">\n",
       "  <thead>\n",
       "    <tr style=\"text-align: right;\">\n",
       "      <th></th>\n",
       "      <th>Recency</th>\n",
       "      <th>Frequency</th>\n",
       "      <th>MonetaryValue</th>\n",
       "      <th>R</th>\n",
       "      <th>F</th>\n",
       "      <th>M</th>\n",
       "      <th>RFM_segment</th>\n",
       "      <th>RFM_score</th>\n",
       "      <th>GeneralSegment</th>\n",
       "    </tr>\n",
       "  </thead>\n",
       "  <tbody>\n",
       "    <tr>\n",
       "      <th>0</th>\n",
       "      <td>2</td>\n",
       "      <td>27</td>\n",
       "      <td>992.82</td>\n",
       "      <td>4</td>\n",
       "      <td>4</td>\n",
       "      <td>4</td>\n",
       "      <td>444</td>\n",
       "      <td>12</td>\n",
       "      <td>Gold</td>\n",
       "    </tr>\n",
       "    <tr>\n",
       "      <th>1</th>\n",
       "      <td>1</td>\n",
       "      <td>967</td>\n",
       "      <td>7522.06</td>\n",
       "      <td>4</td>\n",
       "      <td>4</td>\n",
       "      <td>4</td>\n",
       "      <td>444</td>\n",
       "      <td>12</td>\n",
       "      <td>Gold</td>\n",
       "    </tr>\n",
       "    <tr>\n",
       "      <th>2</th>\n",
       "      <td>4</td>\n",
       "      <td>37</td>\n",
       "      <td>813.45</td>\n",
       "      <td>4</td>\n",
       "      <td>4</td>\n",
       "      <td>4</td>\n",
       "      <td>444</td>\n",
       "      <td>12</td>\n",
       "      <td>Gold</td>\n",
       "    </tr>\n",
       "    <tr>\n",
       "      <th>3</th>\n",
       "      <td>3</td>\n",
       "      <td>17</td>\n",
       "      <td>268.02</td>\n",
       "      <td>4</td>\n",
       "      <td>3</td>\n",
       "      <td>3</td>\n",
       "      <td>433</td>\n",
       "      <td>10</td>\n",
       "      <td>Gold</td>\n",
       "    </tr>\n",
       "    <tr>\n",
       "      <th>4</th>\n",
       "      <td>71</td>\n",
       "      <td>9</td>\n",
       "      <td>146.15</td>\n",
       "      <td>2</td>\n",
       "      <td>2</td>\n",
       "      <td>3</td>\n",
       "      <td>223</td>\n",
       "      <td>7</td>\n",
       "      <td>Silver</td>\n",
       "    </tr>\n",
       "  </tbody>\n",
       "</table>\n",
       "</div>"
      ],
      "text/plain": [
       "   Recency  Frequency  MonetaryValue  R  F  M  RFM_segment  RFM_score  \\\n",
       "0        2         27         992.82  4  4  4          444         12   \n",
       "1        1        967        7522.06  4  4  4          444         12   \n",
       "2        4         37         813.45  4  4  4          444         12   \n",
       "3        3         17         268.02  4  3  3          433         10   \n",
       "4       71          9         146.15  2  2  3          223          7   \n",
       "\n",
       "  GeneralSegment  \n",
       "0           Gold  \n",
       "1           Gold  \n",
       "2           Gold  \n",
       "3           Gold  \n",
       "4         Silver  "
      ]
     },
     "execution_count": 3,
     "metadata": {},
     "output_type": "execute_result"
    }
   ],
   "source": [
    "# Load datamart from RFM\n",
    "datamart = pd.read_csv('data/datamart_RFM.csv')\n",
    "datamart.head()"
   ]
  },
  {
   "cell_type": "code",
   "execution_count": 4,
   "id": "68dfb57a",
   "metadata": {
    "ExecuteTime": {
     "end_time": "2022-07-21T13:16:30.723403Z",
     "start_time": "2022-07-21T13:16:30.675485Z"
    }
   },
   "outputs": [
    {
     "data": {
      "text/html": [
       "<div>\n",
       "<style scoped>\n",
       "    .dataframe tbody tr th:only-of-type {\n",
       "        vertical-align: middle;\n",
       "    }\n",
       "\n",
       "    .dataframe tbody tr th {\n",
       "        vertical-align: top;\n",
       "    }\n",
       "\n",
       "    .dataframe thead th {\n",
       "        text-align: right;\n",
       "    }\n",
       "</style>\n",
       "<table border=\"1\" class=\"dataframe\">\n",
       "  <thead>\n",
       "    <tr style=\"text-align: right;\">\n",
       "      <th></th>\n",
       "      <th>Recency</th>\n",
       "      <th>Frequency</th>\n",
       "      <th>MonetaryValue</th>\n",
       "      <th>R</th>\n",
       "      <th>F</th>\n",
       "      <th>M</th>\n",
       "      <th>RFM_segment</th>\n",
       "      <th>RFM_score</th>\n",
       "    </tr>\n",
       "  </thead>\n",
       "  <tbody>\n",
       "    <tr>\n",
       "      <th>count</th>\n",
       "      <td>3701.000000</td>\n",
       "      <td>3701.000000</td>\n",
       "      <td>3701.000000</td>\n",
       "      <td>3701.000000</td>\n",
       "      <td>3701.000000</td>\n",
       "      <td>3701.000000</td>\n",
       "      <td>3701.000000</td>\n",
       "      <td>3701.000000</td>\n",
       "    </tr>\n",
       "    <tr>\n",
       "      <th>mean</th>\n",
       "      <td>94.298568</td>\n",
       "      <td>19.147257</td>\n",
       "      <td>380.535069</td>\n",
       "      <td>2.516347</td>\n",
       "      <td>2.427722</td>\n",
       "      <td>2.499325</td>\n",
       "      <td>278.411240</td>\n",
       "      <td>7.443394</td>\n",
       "    </tr>\n",
       "    <tr>\n",
       "      <th>std</th>\n",
       "      <td>99.974969</td>\n",
       "      <td>44.831615</td>\n",
       "      <td>1474.285937</td>\n",
       "      <td>1.128292</td>\n",
       "      <td>1.151018</td>\n",
       "      <td>1.118547</td>\n",
       "      <td>119.232462</td>\n",
       "      <td>2.825434</td>\n",
       "    </tr>\n",
       "    <tr>\n",
       "      <th>min</th>\n",
       "      <td>1.000000</td>\n",
       "      <td>1.000000</td>\n",
       "      <td>0.650000</td>\n",
       "      <td>1.000000</td>\n",
       "      <td>1.000000</td>\n",
       "      <td>1.000000</td>\n",
       "      <td>111.000000</td>\n",
       "      <td>3.000000</td>\n",
       "    </tr>\n",
       "    <tr>\n",
       "      <th>25%</th>\n",
       "      <td>19.000000</td>\n",
       "      <td>4.000000</td>\n",
       "      <td>59.400000</td>\n",
       "      <td>2.000000</td>\n",
       "      <td>1.000000</td>\n",
       "      <td>1.000000</td>\n",
       "      <td>211.000000</td>\n",
       "      <td>5.000000</td>\n",
       "    </tr>\n",
       "    <tr>\n",
       "      <th>50%</th>\n",
       "      <td>52.000000</td>\n",
       "      <td>9.000000</td>\n",
       "      <td>140.300000</td>\n",
       "      <td>3.000000</td>\n",
       "      <td>2.000000</td>\n",
       "      <td>2.000000</td>\n",
       "      <td>311.000000</td>\n",
       "      <td>7.000000</td>\n",
       "    </tr>\n",
       "    <tr>\n",
       "      <th>75%</th>\n",
       "      <td>151.000000</td>\n",
       "      <td>21.000000</td>\n",
       "      <td>337.800000</td>\n",
       "      <td>4.000000</td>\n",
       "      <td>3.000000</td>\n",
       "      <td>3.000000</td>\n",
       "      <td>411.000000</td>\n",
       "      <td>10.000000</td>\n",
       "    </tr>\n",
       "    <tr>\n",
       "      <th>max</th>\n",
       "      <td>374.000000</td>\n",
       "      <td>1532.000000</td>\n",
       "      <td>59596.070000</td>\n",
       "      <td>4.000000</td>\n",
       "      <td>4.000000</td>\n",
       "      <td>4.000000</td>\n",
       "      <td>444.000000</td>\n",
       "      <td>12.000000</td>\n",
       "    </tr>\n",
       "  </tbody>\n",
       "</table>\n",
       "</div>"
      ],
      "text/plain": [
       "           Recency    Frequency  MonetaryValue            R            F  \\\n",
       "count  3701.000000  3701.000000    3701.000000  3701.000000  3701.000000   \n",
       "mean     94.298568    19.147257     380.535069     2.516347     2.427722   \n",
       "std      99.974969    44.831615    1474.285937     1.128292     1.151018   \n",
       "min       1.000000     1.000000       0.650000     1.000000     1.000000   \n",
       "25%      19.000000     4.000000      59.400000     2.000000     1.000000   \n",
       "50%      52.000000     9.000000     140.300000     3.000000     2.000000   \n",
       "75%     151.000000    21.000000     337.800000     4.000000     3.000000   \n",
       "max     374.000000  1532.000000   59596.070000     4.000000     4.000000   \n",
       "\n",
       "                 M  RFM_segment    RFM_score  \n",
       "count  3701.000000  3701.000000  3701.000000  \n",
       "mean      2.499325   278.411240     7.443394  \n",
       "std       1.118547   119.232462     2.825434  \n",
       "min       1.000000   111.000000     3.000000  \n",
       "25%       1.000000   211.000000     5.000000  \n",
       "50%       2.000000   311.000000     7.000000  \n",
       "75%       3.000000   411.000000    10.000000  \n",
       "max       4.000000   444.000000    12.000000  "
      ]
     },
     "execution_count": 4,
     "metadata": {},
     "output_type": "execute_result"
    }
   ],
   "source": [
    "# Key statistics\n",
    "datamart.describe()"
   ]
  },
  {
   "cell_type": "code",
   "execution_count": 8,
   "id": "c8eb21c1",
   "metadata": {
    "ExecuteTime": {
     "end_time": "2022-07-21T13:18:19.087533Z",
     "start_time": "2022-07-21T13:18:19.078194Z"
    }
   },
   "outputs": [
    {
     "data": {
      "text/plain": [
       "Recency           94.298568\n",
       "Frequency         19.147257\n",
       "MonetaryValue    380.535069\n",
       "R                  2.516347\n",
       "F                  2.427722\n",
       "M                  2.499325\n",
       "RFM_segment      278.411240\n",
       "RFM_score          7.443394\n",
       "dtype: float64"
      ]
     },
     "execution_count": 8,
     "metadata": {},
     "output_type": "execute_result"
    }
   ],
   "source": [
    "# Average values\n",
    "datamart.mean(numeric_only=True)"
   ]
  },
  {
   "cell_type": "code",
   "execution_count": 10,
   "id": "632cbd33",
   "metadata": {
    "ExecuteTime": {
     "end_time": "2022-07-21T13:18:44.795134Z",
     "start_time": "2022-07-21T13:18:44.784382Z"
    }
   },
   "outputs": [
    {
     "data": {
      "text/plain": [
       "Recency            99.974969\n",
       "Frequency          44.831615\n",
       "MonetaryValue    1474.285937\n",
       "R                   1.128292\n",
       "F                   1.151018\n",
       "M                   1.118547\n",
       "RFM_segment       119.232462\n",
       "RFM_score           2.825434\n",
       "dtype: float64"
      ]
     },
     "execution_count": 10,
     "metadata": {},
     "output_type": "execute_result"
    }
   ],
   "source": [
    "# STD \n",
    "datamart.std(numeric_only=True)"
   ]
  },
  {
   "cell_type": "markdown",
   "id": "1544a46d",
   "metadata": {},
   "source": [
    "# Managing skewed variables"
   ]
  },
  {
   "cell_type": "markdown",
   "id": "a4b2db3e",
   "metadata": {},
   "source": [
    "**Identifying skewness :**\n",
    "- Visual analysis of the distribution\n",
    "- If it has a tail, it's skewed (left or right)"
   ]
  },
  {
   "cell_type": "code",
   "execution_count": 20,
   "id": "4c1497e3",
   "metadata": {
    "ExecuteTime": {
     "end_time": "2022-07-21T13:24:49.199620Z",
     "start_time": "2022-07-21T13:24:48.975115Z"
    }
   },
   "outputs": [
    {
     "data": {
      "image/png": "[encoded data removed]",
      "text/plain": [
       "<Figure size 360x360 with 1 Axes>"
      ]
     },
     "metadata": {
      "needs_background": "light"
     },
     "output_type": "display_data"
    }
   ],
   "source": [
    "# Exploring distribution of Recency => Right skewed\n",
    "sns.displot(datamart['Recency'])\n",
    "plt.show()"
   ]
  },
  {
   "cell_type": "code",
   "execution_count": 21,
   "id": "42357374",
   "metadata": {
    "ExecuteTime": {
     "end_time": "2022-07-21T13:26:00.122469Z",
     "start_time": "2022-07-21T13:25:58.710973Z"
    }
   },
   "outputs": [
    {
     "data": {
      "image/png": "[encoded data removed]",
      "text/plain": [
       "<Figure size 360x360 with 1 Axes>"
      ]
     },
     "metadata": {
      "needs_background": "light"
     },
     "output_type": "display_data"
    }
   ],
   "source": [
    "# Exploring distribution of Frequency => Right skewed\n",
    "sns.displot(datamart['Frequency'])\n",
    "plt.show()"
   ]
  },
  {
   "cell_type": "markdown",
   "id": "d7ce7e71",
   "metadata": {},
   "source": [
    "**Data tranformations to manage skewness :**\n",
    "- Logarithmic transformation (positive values only)"
   ]
  },
  {
   "cell_type": "code",
   "execution_count": 22,
   "id": "2b9b2622",
   "metadata": {
    "ExecuteTime": {
     "end_time": "2022-07-21T13:29:55.649025Z",
     "start_time": "2022-07-21T13:29:55.409384Z"
    }
   },
   "outputs": [
    {
     "data": {
      "image/png": "[encoded data removed]",
      "text/plain": [
       "<Figure size 360x360 with 1 Axes>"
      ]
     },
     "metadata": {
      "needs_background": "light"
     },
     "output_type": "display_data"
    }
   ],
   "source": [
    "# Log tranformation of Frequency\n",
    "frequency_log = np.log(datamart['Frequency'])\n",
    "sns.displot(frequency_log)\n",
    "plt.show()"
   ]
  },
  {
   "cell_type": "markdown",
   "id": "b389b0bb",
   "metadata": {},
   "source": [
    "**Although it's not perfectly symmetrical, it has very little skewness compared to the original distribution.**"
   ]
  },
  {
   "cell_type": "markdown",
   "id": "ef19c708",
   "metadata": {},
   "source": [
    "**Dealing with negative values :**\n",
    "- Adding a constant before log transformation\n",
    "- Cube root tranformation"
   ]
  },
  {
   "cell_type": "markdown",
   "id": "3398ba9b",
   "metadata": {},
   "source": [
    "# Centering and scaling data"
   ]
  },
  {
   "cell_type": "markdown",
   "id": "2a7fa10e",
   "metadata": {},
   "source": [
    "**Identifying an issue :**\n",
    "- Analyze key statistics of the dataset\n",
    "- Compare mean and standard deviation"
   ]
  },
  {
   "cell_type": "code",
   "execution_count": 32,
   "id": "69c5d31c",
   "metadata": {
    "ExecuteTime": {
     "end_time": "2022-07-21T13:39:26.477943Z",
     "start_time": "2022-07-21T13:39:26.448432Z"
    }
   },
   "outputs": [
    {
     "data": {
      "text/html": [
       "<div>\n",
       "<style scoped>\n",
       "    .dataframe tbody tr th:only-of-type {\n",
       "        vertical-align: middle;\n",
       "    }\n",
       "\n",
       "    .dataframe tbody tr th {\n",
       "        vertical-align: top;\n",
       "    }\n",
       "\n",
       "    .dataframe thead th {\n",
       "        text-align: right;\n",
       "    }\n",
       "</style>\n",
       "<table border=\"1\" class=\"dataframe\">\n",
       "  <thead>\n",
       "    <tr style=\"text-align: right;\">\n",
       "      <th></th>\n",
       "      <th>Recency</th>\n",
       "      <th>Frequency</th>\n",
       "      <th>MonetaryValue</th>\n",
       "    </tr>\n",
       "  </thead>\n",
       "  <tbody>\n",
       "    <tr>\n",
       "      <th>count</th>\n",
       "      <td>3701.000000</td>\n",
       "      <td>3701.000000</td>\n",
       "      <td>3701.000000</td>\n",
       "    </tr>\n",
       "    <tr>\n",
       "      <th>mean</th>\n",
       "      <td>94.298568</td>\n",
       "      <td>19.147257</td>\n",
       "      <td>380.535069</td>\n",
       "    </tr>\n",
       "    <tr>\n",
       "      <th>std</th>\n",
       "      <td>99.974969</td>\n",
       "      <td>44.831615</td>\n",
       "      <td>1474.285937</td>\n",
       "    </tr>\n",
       "    <tr>\n",
       "      <th>min</th>\n",
       "      <td>1.000000</td>\n",
       "      <td>1.000000</td>\n",
       "      <td>0.650000</td>\n",
       "    </tr>\n",
       "    <tr>\n",
       "      <th>25%</th>\n",
       "      <td>19.000000</td>\n",
       "      <td>4.000000</td>\n",
       "      <td>59.400000</td>\n",
       "    </tr>\n",
       "    <tr>\n",
       "      <th>50%</th>\n",
       "      <td>52.000000</td>\n",
       "      <td>9.000000</td>\n",
       "      <td>140.300000</td>\n",
       "    </tr>\n",
       "    <tr>\n",
       "      <th>75%</th>\n",
       "      <td>151.000000</td>\n",
       "      <td>21.000000</td>\n",
       "      <td>337.800000</td>\n",
       "    </tr>\n",
       "    <tr>\n",
       "      <th>max</th>\n",
       "      <td>374.000000</td>\n",
       "      <td>1532.000000</td>\n",
       "      <td>59596.070000</td>\n",
       "    </tr>\n",
       "  </tbody>\n",
       "</table>\n",
       "</div>"
      ],
      "text/plain": [
       "           Recency    Frequency  MonetaryValue\n",
       "count  3701.000000  3701.000000    3701.000000\n",
       "mean     94.298568    19.147257     380.535069\n",
       "std      99.974969    44.831615    1474.285937\n",
       "min       1.000000     1.000000       0.650000\n",
       "25%      19.000000     4.000000      59.400000\n",
       "50%      52.000000     9.000000     140.300000\n",
       "75%     151.000000    21.000000     337.800000\n",
       "max     374.000000  1532.000000   59596.070000"
      ]
     },
     "execution_count": 32,
     "metadata": {},
     "output_type": "execute_result"
    }
   ],
   "source": [
    "datamart_RFM = datamart[['Recency', 'Frequency', 'MonetaryValue']]\n",
    "datamart_RFM.describe()"
   ]
  },
  {
   "cell_type": "markdown",
   "id": "e65e02de",
   "metadata": {},
   "source": [
    "We can immediately see that **each of our three variables has both a different average value and a different standard deviation.** In the next step, we will deal with centering the data to make the average values match."
   ]
  },
  {
   "cell_type": "markdown",
   "id": "23901430",
   "metadata": {},
   "source": [
    "**Centering variables with different means :**\n",
    "- K-means works well on variables with the same mean\n",
    "- Centering variables is done by substracting average value frome each observation"
   ]
  },
  {
   "cell_type": "code",
   "execution_count": 35,
   "id": "88ba7b61",
   "metadata": {
    "ExecuteTime": {
     "end_time": "2022-07-21T14:21:36.419228Z",
     "start_time": "2022-07-21T14:21:36.386429Z"
    }
   },
   "outputs": [
    {
     "data": {
      "text/html": [
       "<div>\n",
       "<style scoped>\n",
       "    .dataframe tbody tr th:only-of-type {\n",
       "        vertical-align: middle;\n",
       "    }\n",
       "\n",
       "    .dataframe tbody tr th {\n",
       "        vertical-align: top;\n",
       "    }\n",
       "\n",
       "    .dataframe thead th {\n",
       "        text-align: right;\n",
       "    }\n",
       "</style>\n",
       "<table border=\"1\" class=\"dataframe\">\n",
       "  <thead>\n",
       "    <tr style=\"text-align: right;\">\n",
       "      <th></th>\n",
       "      <th>Recency</th>\n",
       "      <th>Frequency</th>\n",
       "      <th>MonetaryValue</th>\n",
       "    </tr>\n",
       "  </thead>\n",
       "  <tbody>\n",
       "    <tr>\n",
       "      <th>count</th>\n",
       "      <td>3701.00</td>\n",
       "      <td>3701.00</td>\n",
       "      <td>3701.00</td>\n",
       "    </tr>\n",
       "    <tr>\n",
       "      <th>mean</th>\n",
       "      <td>-0.00</td>\n",
       "      <td>-0.00</td>\n",
       "      <td>0.00</td>\n",
       "    </tr>\n",
       "    <tr>\n",
       "      <th>std</th>\n",
       "      <td>99.97</td>\n",
       "      <td>44.83</td>\n",
       "      <td>1474.29</td>\n",
       "    </tr>\n",
       "    <tr>\n",
       "      <th>min</th>\n",
       "      <td>-93.30</td>\n",
       "      <td>-18.15</td>\n",
       "      <td>-379.89</td>\n",
       "    </tr>\n",
       "    <tr>\n",
       "      <th>25%</th>\n",
       "      <td>-75.30</td>\n",
       "      <td>-15.15</td>\n",
       "      <td>-321.14</td>\n",
       "    </tr>\n",
       "    <tr>\n",
       "      <th>50%</th>\n",
       "      <td>-42.30</td>\n",
       "      <td>-10.15</td>\n",
       "      <td>-240.24</td>\n",
       "    </tr>\n",
       "    <tr>\n",
       "      <th>75%</th>\n",
       "      <td>56.70</td>\n",
       "      <td>1.85</td>\n",
       "      <td>-42.74</td>\n",
       "    </tr>\n",
       "    <tr>\n",
       "      <th>max</th>\n",
       "      <td>279.70</td>\n",
       "      <td>1512.85</td>\n",
       "      <td>59215.53</td>\n",
       "    </tr>\n",
       "  </tbody>\n",
       "</table>\n",
       "</div>"
      ],
      "text/plain": [
       "       Recency  Frequency  MonetaryValue\n",
       "count  3701.00    3701.00        3701.00\n",
       "mean     -0.00      -0.00           0.00\n",
       "std      99.97      44.83        1474.29\n",
       "min     -93.30     -18.15        -379.89\n",
       "25%     -75.30     -15.15        -321.14\n",
       "50%     -42.30     -10.15        -240.24\n",
       "75%      56.70       1.85         -42.74\n",
       "max     279.70    1512.85       59215.53"
      ]
     },
     "execution_count": 35,
     "metadata": {},
     "output_type": "execute_result"
    }
   ],
   "source": [
    "datamart_centered = datamart_RFM - datamart_RFM.mean()\n",
    "datamart_centered.describe().round(2)"
   ]
  },
  {
   "cell_type": "markdown",
   "id": "7628398d",
   "metadata": {},
   "source": [
    "**Scaling variables with different variance :**\n",
    "\n",
    "- K-means works better on variables with the same variance / standard deviation\n",
    "- Scaling variables is done by dividing them by standar deviation of each"
   ]
  },
  {
   "cell_type": "code",
   "execution_count": 36,
   "id": "2ed1220d",
   "metadata": {
    "ExecuteTime": {
     "end_time": "2022-07-21T14:24:26.884161Z",
     "start_time": "2022-07-21T14:24:26.856606Z"
    }
   },
   "outputs": [
    {
     "data": {
      "text/html": [
       "<div>\n",
       "<style scoped>\n",
       "    .dataframe tbody tr th:only-of-type {\n",
       "        vertical-align: middle;\n",
       "    }\n",
       "\n",
       "    .dataframe tbody tr th {\n",
       "        vertical-align: top;\n",
       "    }\n",
       "\n",
       "    .dataframe thead th {\n",
       "        text-align: right;\n",
       "    }\n",
       "</style>\n",
       "<table border=\"1\" class=\"dataframe\">\n",
       "  <thead>\n",
       "    <tr style=\"text-align: right;\">\n",
       "      <th></th>\n",
       "      <th>Recency</th>\n",
       "      <th>Frequency</th>\n",
       "      <th>MonetaryValue</th>\n",
       "    </tr>\n",
       "  </thead>\n",
       "  <tbody>\n",
       "    <tr>\n",
       "      <th>count</th>\n",
       "      <td>3701.00</td>\n",
       "      <td>3701.00</td>\n",
       "      <td>3701.00</td>\n",
       "    </tr>\n",
       "    <tr>\n",
       "      <th>mean</th>\n",
       "      <td>0.94</td>\n",
       "      <td>0.43</td>\n",
       "      <td>0.26</td>\n",
       "    </tr>\n",
       "    <tr>\n",
       "      <th>std</th>\n",
       "      <td>1.00</td>\n",
       "      <td>1.00</td>\n",
       "      <td>1.00</td>\n",
       "    </tr>\n",
       "    <tr>\n",
       "      <th>min</th>\n",
       "      <td>0.01</td>\n",
       "      <td>0.02</td>\n",
       "      <td>0.00</td>\n",
       "    </tr>\n",
       "    <tr>\n",
       "      <th>25%</th>\n",
       "      <td>0.19</td>\n",
       "      <td>0.09</td>\n",
       "      <td>0.04</td>\n",
       "    </tr>\n",
       "    <tr>\n",
       "      <th>50%</th>\n",
       "      <td>0.52</td>\n",
       "      <td>0.20</td>\n",
       "      <td>0.10</td>\n",
       "    </tr>\n",
       "    <tr>\n",
       "      <th>75%</th>\n",
       "      <td>1.51</td>\n",
       "      <td>0.47</td>\n",
       "      <td>0.23</td>\n",
       "    </tr>\n",
       "    <tr>\n",
       "      <th>max</th>\n",
       "      <td>3.74</td>\n",
       "      <td>34.17</td>\n",
       "      <td>40.42</td>\n",
       "    </tr>\n",
       "  </tbody>\n",
       "</table>\n",
       "</div>"
      ],
      "text/plain": [
       "       Recency  Frequency  MonetaryValue\n",
       "count  3701.00    3701.00        3701.00\n",
       "mean      0.94       0.43           0.26\n",
       "std       1.00       1.00           1.00\n",
       "min       0.01       0.02           0.00\n",
       "25%       0.19       0.09           0.04\n",
       "50%       0.52       0.20           0.10\n",
       "75%       1.51       0.47           0.23\n",
       "max       3.74      34.17          40.42"
      ]
     },
     "execution_count": 36,
     "metadata": {},
     "output_type": "execute_result"
    }
   ],
   "source": [
    "datamart_scaled = datamart_RFM / datamart_RFM.std()\n",
    "datamart_scaled.describe"
   ]
  },
  {
   "cell_type": "markdown",
   "id": "80531128",
   "metadata": {},
   "source": [
    "**Combining centering and scaling :**\n",
    "- Substract mean and divide by std manually\n",
    "- Or use a scaler from scikit-learn library (returns np.ndarray object)"
   ]
  },
  {
   "cell_type": "code",
   "execution_count": 38,
   "id": "80682242",
   "metadata": {
    "ExecuteTime": {
     "end_time": "2022-07-21T14:30:14.870008Z",
     "start_time": "2022-07-21T14:30:14.819215Z"
    }
   },
   "outputs": [],
   "source": [
    "# Use Standard Scaler\n",
    "scaler = StandardScaler()\n",
    "scaler.fit(datamart_RFM)\n",
    "datamart_normalized = scaler.transform(datamart_RFM)"
   ]
  },
  {
   "cell_type": "code",
   "execution_count": 42,
   "id": "68964979",
   "metadata": {
    "ExecuteTime": {
     "end_time": "2022-07-21T14:32:02.636202Z",
     "start_time": "2022-07-21T14:32:02.629627Z"
    }
   },
   "outputs": [
    {
     "name": "stdout",
     "output_type": "stream",
     "text": [
      "mean : [-0.  0.  0.]\n",
      "std : [1. 1. 1.]\n"
     ]
    }
   ],
   "source": [
    "# Print mean & std\n",
    "print('mean :', datamart_normalized.mean(axis=0).round(2))\n",
    "print('std :', datamart_normalized.std(axis=0).round(2))"
   ]
  },
  {
   "cell_type": "markdown",
   "id": "5c262744",
   "metadata": {},
   "source": [
    "# Preprocessing pipeline"
   ]
  },
  {
   "cell_type": "markdown",
   "id": "4151abb7",
   "metadata": {},
   "source": [
    "**Why the sequence matters ?**\n",
    "- Log tranformation only works with positive data\n",
    "- Normalization forces data to have negative values and log will not work"
   ]
  },
  {
   "cell_type": "markdown",
   "id": "f7b790a4",
   "metadata": {},
   "source": [
    "**Sequence :**\n",
    "1. Unskew the data - log transformation\n",
    "2. Standardize to the same average values\n",
    "3. Scale to the same std\n",
    "4. Store as a seperate array to be used for clustering"
   ]
  },
  {
   "cell_type": "code",
   "execution_count": 43,
   "id": "fb8163c4",
   "metadata": {
    "ExecuteTime": {
     "end_time": "2022-07-21T14:37:19.635882Z",
     "start_time": "2022-07-21T14:37:19.625806Z"
    }
   },
   "outputs": [
    {
     "data": {
      "text/html": [
       "<div>\n",
       "<style scoped>\n",
       "    .dataframe tbody tr th:only-of-type {\n",
       "        vertical-align: middle;\n",
       "    }\n",
       "\n",
       "    .dataframe tbody tr th {\n",
       "        vertical-align: top;\n",
       "    }\n",
       "\n",
       "    .dataframe thead th {\n",
       "        text-align: right;\n",
       "    }\n",
       "</style>\n",
       "<table border=\"1\" class=\"dataframe\">\n",
       "  <thead>\n",
       "    <tr style=\"text-align: right;\">\n",
       "      <th></th>\n",
       "      <th>Recency</th>\n",
       "      <th>Frequency</th>\n",
       "      <th>MonetaryValue</th>\n",
       "    </tr>\n",
       "  </thead>\n",
       "  <tbody>\n",
       "    <tr>\n",
       "      <th>0</th>\n",
       "      <td>2</td>\n",
       "      <td>27</td>\n",
       "      <td>992.82</td>\n",
       "    </tr>\n",
       "    <tr>\n",
       "      <th>1</th>\n",
       "      <td>1</td>\n",
       "      <td>967</td>\n",
       "      <td>7522.06</td>\n",
       "    </tr>\n",
       "    <tr>\n",
       "      <th>2</th>\n",
       "      <td>4</td>\n",
       "      <td>37</td>\n",
       "      <td>813.45</td>\n",
       "    </tr>\n",
       "    <tr>\n",
       "      <th>3</th>\n",
       "      <td>3</td>\n",
       "      <td>17</td>\n",
       "      <td>268.02</td>\n",
       "    </tr>\n",
       "    <tr>\n",
       "      <th>4</th>\n",
       "      <td>71</td>\n",
       "      <td>9</td>\n",
       "      <td>146.15</td>\n",
       "    </tr>\n",
       "  </tbody>\n",
       "</table>\n",
       "</div>"
      ],
      "text/plain": [
       "   Recency  Frequency  MonetaryValue\n",
       "0        2         27         992.82\n",
       "1        1        967        7522.06\n",
       "2        4         37         813.45\n",
       "3        3         17         268.02\n",
       "4       71          9         146.15"
      ]
     },
     "execution_count": 43,
     "metadata": {},
     "output_type": "execute_result"
    }
   ],
   "source": [
    "datamart_RFM.head()"
   ]
  },
  {
   "cell_type": "code",
   "execution_count": 44,
   "id": "8d0db584",
   "metadata": {
    "ExecuteTime": {
     "end_time": "2022-07-21T14:39:36.814140Z",
     "start_time": "2022-07-21T14:39:36.804382Z"
    }
   },
   "outputs": [],
   "source": [
    "# 1. Unskew the data\n",
    "datamart_log = np.log(datamart_RFM)\n",
    "\n",
    "# 2. Normalize the variables\n",
    "scaler = StandardScaler()\n",
    "scaler.fit(datamart_log)\n",
    "\n",
    "# 3. Store for clustering\n",
    "datamart_normalized = scaler.transform(datamart_log)"
   ]
  },
  {
   "cell_type": "markdown",
   "id": "95935da4",
   "metadata": {},
   "source": [
    "We are now ready to run k-means clustering and identify valuable customer segments."
   ]
  },
  {
   "cell_type": "markdown",
   "id": "cf1034fd",
   "metadata": {
    "ExecuteTime": {
     "end_time": "2022-07-21T14:41:21.491675Z",
     "start_time": "2022-07-21T14:41:21.488239Z"
    }
   },
   "source": [
    "# Practical implementation of k-means clustering"
   ]
  },
  {
   "cell_type": "markdown",
   "id": "56aa868a",
   "metadata": {},
   "source": [
    "**Key steps :**\n",
    "- Data pre-processing (see previous cell)\n",
    "- Choosing a number of clusters\n",
    "- Running k-means clustering on pre-processed data\n",
    "- Analyzing average RFM values of each cluster"
   ]
  },
  {
   "cell_type": "code",
   "execution_count": 48,
   "id": "a50d6c60",
   "metadata": {
    "ExecuteTime": {
     "end_time": "2022-07-21T14:57:16.712454Z",
     "start_time": "2022-07-21T14:57:13.394206Z"
    }
   },
   "outputs": [
    {
     "data": {
      "text/plain": [
       "array([0, 0, 0, ..., 1, 0, 0], dtype=int32)"
      ]
     },
     "execution_count": 48,
     "metadata": {},
     "output_type": "execute_result"
    }
   ],
   "source": [
    "# Running K-means\n",
    "\n",
    "# Use Kmeans\n",
    "kmeans = KMeans(n_clusters=2, random_state=1)\n",
    "\n",
    "# Compute k-means clustering on pre processed data\n",
    "kmeans.fit(datamart_normalized)\n",
    "\n",
    "# Extract cluster labels\n",
    "cluster_labels = kmeans.labels_\n",
    "cluster_labels"
   ]
  },
  {
   "cell_type": "code",
   "execution_count": 49,
   "id": "b92fa0c9",
   "metadata": {
    "ExecuteTime": {
     "end_time": "2022-07-21T14:59:15.879477Z",
     "start_time": "2022-07-21T14:59:15.866760Z"
    }
   },
   "outputs": [
    {
     "data": {
      "text/html": [
       "<div>\n",
       "<style scoped>\n",
       "    .dataframe tbody tr th:only-of-type {\n",
       "        vertical-align: middle;\n",
       "    }\n",
       "\n",
       "    .dataframe tbody tr th {\n",
       "        vertical-align: top;\n",
       "    }\n",
       "\n",
       "    .dataframe thead th {\n",
       "        text-align: right;\n",
       "    }\n",
       "</style>\n",
       "<table border=\"1\" class=\"dataframe\">\n",
       "  <thead>\n",
       "    <tr style=\"text-align: right;\">\n",
       "      <th></th>\n",
       "      <th>Recency</th>\n",
       "      <th>Frequency</th>\n",
       "      <th>MonetaryValue</th>\n",
       "      <th>Cluster</th>\n",
       "    </tr>\n",
       "  </thead>\n",
       "  <tbody>\n",
       "    <tr>\n",
       "      <th>0</th>\n",
       "      <td>2</td>\n",
       "      <td>27</td>\n",
       "      <td>992.82</td>\n",
       "      <td>0</td>\n",
       "    </tr>\n",
       "    <tr>\n",
       "      <th>1</th>\n",
       "      <td>1</td>\n",
       "      <td>967</td>\n",
       "      <td>7522.06</td>\n",
       "      <td>0</td>\n",
       "    </tr>\n",
       "    <tr>\n",
       "      <th>2</th>\n",
       "      <td>4</td>\n",
       "      <td>37</td>\n",
       "      <td>813.45</td>\n",
       "      <td>0</td>\n",
       "    </tr>\n",
       "    <tr>\n",
       "      <th>3</th>\n",
       "      <td>3</td>\n",
       "      <td>17</td>\n",
       "      <td>268.02</td>\n",
       "      <td>0</td>\n",
       "    </tr>\n",
       "    <tr>\n",
       "      <th>4</th>\n",
       "      <td>71</td>\n",
       "      <td>9</td>\n",
       "      <td>146.15</td>\n",
       "      <td>1</td>\n",
       "    </tr>\n",
       "  </tbody>\n",
       "</table>\n",
       "</div>"
      ],
      "text/plain": [
       "   Recency  Frequency  MonetaryValue  Cluster\n",
       "0        2         27         992.82        0\n",
       "1        1        967        7522.06        0\n",
       "2        4         37         813.45        0\n",
       "3        3         17         268.02        0\n",
       "4       71          9         146.15        1"
      ]
     },
     "execution_count": 49,
     "metadata": {},
     "output_type": "execute_result"
    }
   ],
   "source": [
    "# Analyzing average RFM values of each cluster\n",
    "\n",
    "# Create a cluster label column\n",
    "datamart_RFM_k2 = datamart_RFM.assign(Cluster = cluster_labels)\n",
    "datamart_RFM_k2.head()"
   ]
  },
  {
   "cell_type": "code",
   "execution_count": 50,
   "id": "f25e980a",
   "metadata": {
    "ExecuteTime": {
     "end_time": "2022-07-21T15:00:36.372207Z",
     "start_time": "2022-07-21T15:00:36.334526Z"
    }
   },
   "outputs": [
    {
     "data": {
      "text/html": [
       "<div>\n",
       "<style scoped>\n",
       "    .dataframe tbody tr th:only-of-type {\n",
       "        vertical-align: middle;\n",
       "    }\n",
       "\n",
       "    .dataframe tbody tr th {\n",
       "        vertical-align: top;\n",
       "    }\n",
       "\n",
       "    .dataframe thead tr th {\n",
       "        text-align: left;\n",
       "    }\n",
       "\n",
       "    .dataframe thead tr:last-of-type th {\n",
       "        text-align: right;\n",
       "    }\n",
       "</style>\n",
       "<table border=\"1\" class=\"dataframe\">\n",
       "  <thead>\n",
       "    <tr>\n",
       "      <th></th>\n",
       "      <th>Recency</th>\n",
       "      <th>Frequency</th>\n",
       "      <th colspan=\"2\" halign=\"left\">MonetaryValue</th>\n",
       "    </tr>\n",
       "    <tr>\n",
       "      <th></th>\n",
       "      <th>mean</th>\n",
       "      <th>mean</th>\n",
       "      <th>mean</th>\n",
       "      <th>count</th>\n",
       "    </tr>\n",
       "    <tr>\n",
       "      <th>Cluster</th>\n",
       "      <th></th>\n",
       "      <th></th>\n",
       "      <th></th>\n",
       "      <th></th>\n",
       "    </tr>\n",
       "  </thead>\n",
       "  <tbody>\n",
       "    <tr>\n",
       "      <th>0</th>\n",
       "      <td>33.0</td>\n",
       "      <td>36.0</td>\n",
       "      <td>730.0</td>\n",
       "      <td>1675</td>\n",
       "    </tr>\n",
       "    <tr>\n",
       "      <th>1</th>\n",
       "      <td>145.0</td>\n",
       "      <td>5.0</td>\n",
       "      <td>92.0</td>\n",
       "      <td>2026</td>\n",
       "    </tr>\n",
       "  </tbody>\n",
       "</table>\n",
       "</div>"
      ],
      "text/plain": [
       "        Recency Frequency MonetaryValue      \n",
       "           mean      mean          mean count\n",
       "Cluster                                      \n",
       "0          33.0      36.0         730.0  1675\n",
       "1         145.0       5.0          92.0  2026"
      ]
     },
     "execution_count": 50,
     "metadata": {},
     "output_type": "execute_result"
    }
   ],
   "source": [
    "# Calculate average RFM values and size for each cluster\n",
    "datamart_RFM_k2.groupby(['Cluster']).agg({\n",
    "    'Recency' : 'mean',\n",
    "    'Frequency': 'mean',\n",
    "    'MonetaryValue': ['mean', 'count']\n",
    "}).round(0)"
   ]
  },
  {
   "cell_type": "markdown",
   "id": "e4ea93d9",
   "metadata": {},
   "source": [
    "# Choosing the number of clusters"
   ]
  },
  {
   "cell_type": "markdown",
   "id": "dbb5dde9",
   "metadata": {},
   "source": [
    "**Methods to define the number of clusters :**\n",
    "- Visual methods - elbow criterion\n",
    "- Mathematical methods - silhouette coefficient\n",
    "- Experimentation and interpretation"
   ]
  },
  {
   "cell_type": "markdown",
   "id": "9a53a7f0",
   "metadata": {},
   "source": [
    "**Elbow criterion method :**\n",
    "- Plot the number of clusters against within-cluster sum-of-squared-errors (SSE) - sum of squared distances from every data point to their cluster center\n",
    "- Identify an 'elbow' in the plot\n",
    "- Elbow - a point representing an 'optimal' number of clusters"
   ]
  },
  {
   "cell_type": "code",
   "execution_count": 52,
   "id": "18103611",
   "metadata": {
    "ExecuteTime": {
     "end_time": "2022-07-21T15:16:40.521925Z",
     "start_time": "2022-07-21T15:16:24.783484Z"
    }
   },
   "outputs": [
    {
     "data": {
      "image/png": "[encoded data removed]",
      "text/plain": [
       "<Figure size 432x288 with 1 Axes>"
      ]
     },
     "metadata": {
      "needs_background": "light"
     },
     "output_type": "display_data"
    }
   ],
   "source": [
    "# Fit Kmeans and calculate SSE for each k\n",
    "sse = {}\n",
    "\n",
    "for k in range(1,11):\n",
    "    kmeans = KMeans(n_clusters=k, random_state=1)\n",
    "    kmeans.fit(datamart_normalized)\n",
    "    sse[k] = kmeans.inertia_ # sum of squared distances to closest cluster center\n",
    "    \n",
    "# Plot SSE for each k\n",
    "plt.title('Elbow method')\n",
    "plt.xlabel('k')\n",
    "plt.ylabel('SSE')\n",
    "sns.pointplot(x=list(sse.keys()), y=list(sse.values()))\n",
    "plt.show()"
   ]
  },
  {
   "cell_type": "markdown",
   "id": "3ff1fe89",
   "metadata": {},
   "source": [
    "**Using elbow criterion method :**\n",
    "- Best to choose the point on elbow, or the next point\n",
    "- Use as a guide but test multiple solutions !!"
   ]
  },
  {
   "cell_type": "markdown",
   "id": "fc344292",
   "metadata": {},
   "source": [
    "**Experimental approach - analyze segments :**\n",
    "- Build clustering at and around elbow solution\n",
    "- Analyze their properties - average RFM values\n",
    "- Compare against each other and choose one which makes most business sense"
   ]
  },
  {
   "cell_type": "code",
   "execution_count": 53,
   "id": "92379aa2",
   "metadata": {
    "ExecuteTime": {
     "end_time": "2022-07-21T15:22:48.068908Z",
     "start_time": "2022-07-21T15:22:46.522384Z"
    }
   },
   "outputs": [
    {
     "data": {
      "text/plain": [
       "array([0, 0, 0, ..., 1, 0, 2], dtype=int32)"
      ]
     },
     "execution_count": 53,
     "metadata": {},
     "output_type": "execute_result"
    }
   ],
   "source": [
    "# Kmeans withn 3 segments\n",
    "# Use Kmeans\n",
    "kmeans = KMeans(n_clusters=3, random_state=1)\n",
    "\n",
    "# Compute k-means clustering on pre processed data\n",
    "kmeans.fit(datamart_normalized)\n",
    "\n",
    "# Extract cluster labels\n",
    "cluster_labels = kmeans.labels_\n",
    "cluster_labels"
   ]
  },
  {
   "cell_type": "code",
   "execution_count": 54,
   "id": "f370007c",
   "metadata": {
    "ExecuteTime": {
     "end_time": "2022-07-21T15:23:19.958956Z",
     "start_time": "2022-07-21T15:23:19.944182Z"
    }
   },
   "outputs": [
    {
     "data": {
      "text/html": [
       "<div>\n",
       "<style scoped>\n",
       "    .dataframe tbody tr th:only-of-type {\n",
       "        vertical-align: middle;\n",
       "    }\n",
       "\n",
       "    .dataframe tbody tr th {\n",
       "        vertical-align: top;\n",
       "    }\n",
       "\n",
       "    .dataframe thead th {\n",
       "        text-align: right;\n",
       "    }\n",
       "</style>\n",
       "<table border=\"1\" class=\"dataframe\">\n",
       "  <thead>\n",
       "    <tr style=\"text-align: right;\">\n",
       "      <th></th>\n",
       "      <th>Recency</th>\n",
       "      <th>Frequency</th>\n",
       "      <th>MonetaryValue</th>\n",
       "      <th>Cluster</th>\n",
       "    </tr>\n",
       "  </thead>\n",
       "  <tbody>\n",
       "    <tr>\n",
       "      <th>0</th>\n",
       "      <td>2</td>\n",
       "      <td>27</td>\n",
       "      <td>992.82</td>\n",
       "      <td>0</td>\n",
       "    </tr>\n",
       "    <tr>\n",
       "      <th>1</th>\n",
       "      <td>1</td>\n",
       "      <td>967</td>\n",
       "      <td>7522.06</td>\n",
       "      <td>0</td>\n",
       "    </tr>\n",
       "    <tr>\n",
       "      <th>2</th>\n",
       "      <td>4</td>\n",
       "      <td>37</td>\n",
       "      <td>813.45</td>\n",
       "      <td>0</td>\n",
       "    </tr>\n",
       "    <tr>\n",
       "      <th>3</th>\n",
       "      <td>3</td>\n",
       "      <td>17</td>\n",
       "      <td>268.02</td>\n",
       "      <td>0</td>\n",
       "    </tr>\n",
       "    <tr>\n",
       "      <th>4</th>\n",
       "      <td>71</td>\n",
       "      <td>9</td>\n",
       "      <td>146.15</td>\n",
       "      <td>2</td>\n",
       "    </tr>\n",
       "  </tbody>\n",
       "</table>\n",
       "</div>"
      ],
      "text/plain": [
       "   Recency  Frequency  MonetaryValue  Cluster\n",
       "0        2         27         992.82        0\n",
       "1        1        967        7522.06        0\n",
       "2        4         37         813.45        0\n",
       "3        3         17         268.02        0\n",
       "4       71          9         146.15        2"
      ]
     },
     "execution_count": 54,
     "metadata": {},
     "output_type": "execute_result"
    }
   ],
   "source": [
    "# Create a cluster label column\n",
    "datamart_RFM_k3 = datamart_RFM.assign(Cluster = cluster_labels)\n",
    "datamart_RFM_k3.head()"
   ]
  },
  {
   "cell_type": "code",
   "execution_count": 55,
   "id": "3440405b",
   "metadata": {
    "ExecuteTime": {
     "end_time": "2022-07-21T15:23:34.416856Z",
     "start_time": "2022-07-21T15:23:34.389117Z"
    },
    "scrolled": true
   },
   "outputs": [
    {
     "data": {
      "text/html": [
       "<div>\n",
       "<style scoped>\n",
       "    .dataframe tbody tr th:only-of-type {\n",
       "        vertical-align: middle;\n",
       "    }\n",
       "\n",
       "    .dataframe tbody tr th {\n",
       "        vertical-align: top;\n",
       "    }\n",
       "\n",
       "    .dataframe thead tr th {\n",
       "        text-align: left;\n",
       "    }\n",
       "\n",
       "    .dataframe thead tr:last-of-type th {\n",
       "        text-align: right;\n",
       "    }\n",
       "</style>\n",
       "<table border=\"1\" class=\"dataframe\">\n",
       "  <thead>\n",
       "    <tr>\n",
       "      <th></th>\n",
       "      <th>Recency</th>\n",
       "      <th>Frequency</th>\n",
       "      <th colspan=\"2\" halign=\"left\">MonetaryValue</th>\n",
       "    </tr>\n",
       "    <tr>\n",
       "      <th></th>\n",
       "      <th>mean</th>\n",
       "      <th>mean</th>\n",
       "      <th>mean</th>\n",
       "      <th>count</th>\n",
       "    </tr>\n",
       "    <tr>\n",
       "      <th>Cluster</th>\n",
       "      <th></th>\n",
       "      <th></th>\n",
       "      <th></th>\n",
       "      <th></th>\n",
       "    </tr>\n",
       "  </thead>\n",
       "  <tbody>\n",
       "    <tr>\n",
       "      <th>0</th>\n",
       "      <td>14.0</td>\n",
       "      <td>53.0</td>\n",
       "      <td>1128.0</td>\n",
       "      <td>855</td>\n",
       "    </tr>\n",
       "    <tr>\n",
       "      <th>1</th>\n",
       "      <td>172.0</td>\n",
       "      <td>3.0</td>\n",
       "      <td>55.0</td>\n",
       "      <td>1225</td>\n",
       "    </tr>\n",
       "    <tr>\n",
       "      <th>2</th>\n",
       "      <td>78.0</td>\n",
       "      <td>14.0</td>\n",
       "      <td>232.0</td>\n",
       "      <td>1621</td>\n",
       "    </tr>\n",
       "  </tbody>\n",
       "</table>\n",
       "</div>"
      ],
      "text/plain": [
       "        Recency Frequency MonetaryValue      \n",
       "           mean      mean          mean count\n",
       "Cluster                                      \n",
       "0          14.0      53.0        1128.0   855\n",
       "1         172.0       3.0          55.0  1225\n",
       "2          78.0      14.0         232.0  1621"
      ]
     },
     "execution_count": 55,
     "metadata": {},
     "output_type": "execute_result"
    }
   ],
   "source": [
    "# Calculate average RFM values and size for each cluster\n",
    "datamart_RFM_k3.groupby(['Cluster']).agg({\n",
    "    'Recency' : 'mean',\n",
    "    'Frequency': 'mean',\n",
    "    'MonetaryValue': ['mean', 'count']\n",
    "}).round(0)"
   ]
  },
  {
   "cell_type": "markdown",
   "id": "4153e34a",
   "metadata": {},
   "source": [
    "Here, While it does identify the least attractive segments and cluster number 1, it does break down the higher value segments into two: segment zero and segment two. It's up to the analyst and the business partners to review the segments and make the call on which solutions make more sense."
   ]
  },
  {
   "cell_type": "markdown",
   "id": "4bee57e6",
   "metadata": {},
   "source": [
    "# Profile and interpret segments"
   ]
  },
  {
   "cell_type": "markdown",
   "id": "7b777992",
   "metadata": {},
   "source": [
    "**Approaches to build customer personas :**\n",
    "- Summary statistics for each cluster e.g. average RFM values\n",
    "- Snake plots (from market research)\n",
    "- Relative importance of cluster attributes compared to population"
   ]
  },
  {
   "cell_type": "markdown",
   "id": "5962b6e8",
   "metadata": {},
   "source": [
    "**Summary statistics for 2 and 3 clusters :**"
   ]
  },
  {
   "cell_type": "code",
   "execution_count": 56,
   "id": "8dfa38c4",
   "metadata": {
    "ExecuteTime": {
     "end_time": "2022-07-21T15:29:30.738285Z",
     "start_time": "2022-07-21T15:29:30.706749Z"
    }
   },
   "outputs": [
    {
     "data": {
      "text/html": [
       "<div>\n",
       "<style scoped>\n",
       "    .dataframe tbody tr th:only-of-type {\n",
       "        vertical-align: middle;\n",
       "    }\n",
       "\n",
       "    .dataframe tbody tr th {\n",
       "        vertical-align: top;\n",
       "    }\n",
       "\n",
       "    .dataframe thead tr th {\n",
       "        text-align: left;\n",
       "    }\n",
       "\n",
       "    .dataframe thead tr:last-of-type th {\n",
       "        text-align: right;\n",
       "    }\n",
       "</style>\n",
       "<table border=\"1\" class=\"dataframe\">\n",
       "  <thead>\n",
       "    <tr>\n",
       "      <th></th>\n",
       "      <th>Recency</th>\n",
       "      <th>Frequency</th>\n",
       "      <th colspan=\"2\" halign=\"left\">MonetaryValue</th>\n",
       "    </tr>\n",
       "    <tr>\n",
       "      <th></th>\n",
       "      <th>mean</th>\n",
       "      <th>mean</th>\n",
       "      <th>mean</th>\n",
       "      <th>count</th>\n",
       "    </tr>\n",
       "    <tr>\n",
       "      <th>Cluster</th>\n",
       "      <th></th>\n",
       "      <th></th>\n",
       "      <th></th>\n",
       "      <th></th>\n",
       "    </tr>\n",
       "  </thead>\n",
       "  <tbody>\n",
       "    <tr>\n",
       "      <th>0</th>\n",
       "      <td>33.0</td>\n",
       "      <td>36.0</td>\n",
       "      <td>730.0</td>\n",
       "      <td>1675</td>\n",
       "    </tr>\n",
       "    <tr>\n",
       "      <th>1</th>\n",
       "      <td>145.0</td>\n",
       "      <td>5.0</td>\n",
       "      <td>92.0</td>\n",
       "      <td>2026</td>\n",
       "    </tr>\n",
       "  </tbody>\n",
       "</table>\n",
       "</div>"
      ],
      "text/plain": [
       "        Recency Frequency MonetaryValue      \n",
       "           mean      mean          mean count\n",
       "Cluster                                      \n",
       "0          33.0      36.0         730.0  1675\n",
       "1         145.0       5.0          92.0  2026"
      ]
     },
     "execution_count": 56,
     "metadata": {},
     "output_type": "execute_result"
    }
   ],
   "source": [
    "# Summary stat for 2 clusters\n",
    "datamart_RFM_k2.groupby(['Cluster']).agg({\n",
    "    'Recency' : 'mean',\n",
    "    'Frequency': 'mean',\n",
    "    'MonetaryValue': ['mean', 'count']\n",
    "}).round(0)"
   ]
  },
  {
   "cell_type": "code",
   "execution_count": 57,
   "id": "b4f84012",
   "metadata": {
    "ExecuteTime": {
     "end_time": "2022-07-21T15:29:50.881608Z",
     "start_time": "2022-07-21T15:29:50.850768Z"
    }
   },
   "outputs": [
    {
     "data": {
      "text/html": [
       "<div>\n",
       "<style scoped>\n",
       "    .dataframe tbody tr th:only-of-type {\n",
       "        vertical-align: middle;\n",
       "    }\n",
       "\n",
       "    .dataframe tbody tr th {\n",
       "        vertical-align: top;\n",
       "    }\n",
       "\n",
       "    .dataframe thead tr th {\n",
       "        text-align: left;\n",
       "    }\n",
       "\n",
       "    .dataframe thead tr:last-of-type th {\n",
       "        text-align: right;\n",
       "    }\n",
       "</style>\n",
       "<table border=\"1\" class=\"dataframe\">\n",
       "  <thead>\n",
       "    <tr>\n",
       "      <th></th>\n",
       "      <th>Recency</th>\n",
       "      <th>Frequency</th>\n",
       "      <th colspan=\"2\" halign=\"left\">MonetaryValue</th>\n",
       "    </tr>\n",
       "    <tr>\n",
       "      <th></th>\n",
       "      <th>mean</th>\n",
       "      <th>mean</th>\n",
       "      <th>mean</th>\n",
       "      <th>count</th>\n",
       "    </tr>\n",
       "    <tr>\n",
       "      <th>Cluster</th>\n",
       "      <th></th>\n",
       "      <th></th>\n",
       "      <th></th>\n",
       "      <th></th>\n",
       "    </tr>\n",
       "  </thead>\n",
       "  <tbody>\n",
       "    <tr>\n",
       "      <th>0</th>\n",
       "      <td>14.0</td>\n",
       "      <td>53.0</td>\n",
       "      <td>1128.0</td>\n",
       "      <td>855</td>\n",
       "    </tr>\n",
       "    <tr>\n",
       "      <th>1</th>\n",
       "      <td>172.0</td>\n",
       "      <td>3.0</td>\n",
       "      <td>55.0</td>\n",
       "      <td>1225</td>\n",
       "    </tr>\n",
       "    <tr>\n",
       "      <th>2</th>\n",
       "      <td>78.0</td>\n",
       "      <td>14.0</td>\n",
       "      <td>232.0</td>\n",
       "      <td>1621</td>\n",
       "    </tr>\n",
       "  </tbody>\n",
       "</table>\n",
       "</div>"
      ],
      "text/plain": [
       "        Recency Frequency MonetaryValue      \n",
       "           mean      mean          mean count\n",
       "Cluster                                      \n",
       "0          14.0      53.0        1128.0   855\n",
       "1         172.0       3.0          55.0  1225\n",
       "2          78.0      14.0         232.0  1621"
      ]
     },
     "execution_count": 57,
     "metadata": {},
     "output_type": "execute_result"
    }
   ],
   "source": [
    "# Summary stat for 3 clusters\n",
    "datamart_RFM_k3.groupby(['Cluster']).agg({\n",
    "    'Recency' : 'mean',\n",
    "    'Frequency': 'mean',\n",
    "    'MonetaryValue': ['mean', 'count']\n",
    "}).round(0)"
   ]
  },
  {
   "cell_type": "markdown",
   "id": "62db64c3",
   "metadata": {},
   "source": [
    "There are some inherent differences between the 2-segment and 3-segment solutions. While the former is simpler, **the 3-segment solution gives more insights.**"
   ]
  },
  {
   "cell_type": "markdown",
   "id": "30a120e9",
   "metadata": {},
   "source": [
    "**Snake plots to understand and compare segments :**\n",
    "- Market research technique to compare different segments\n",
    "- Visual representation of each segment's attributes\n",
    "- Need to first normalize data (center & scale)\n",
    "- Plot each cluster's average normalized values of each attribute"
   ]
  },
  {
   "cell_type": "code",
   "execution_count": 58,
   "id": "331efcc0",
   "metadata": {
    "ExecuteTime": {
     "end_time": "2022-07-21T15:38:41.834441Z",
     "start_time": "2022-07-21T15:38:41.827569Z"
    }
   },
   "outputs": [],
   "source": [
    "# Transform datamart_normalized as DataFrame and add Cluster column\n",
    "datamart_normalized = pd.DataFrame(datamart_normalized,\n",
    "                                   index=datamart_RFM.index,\n",
    "                                   columns=datamart_RFM.columns)\n",
    "datamart_normalized['Cluster'] = datamart_RFM_k3['Cluster']"
   ]
  },
  {
   "cell_type": "code",
   "execution_count": 60,
   "id": "86940ca1",
   "metadata": {
    "ExecuteTime": {
     "end_time": "2022-07-21T15:41:19.301257Z",
     "start_time": "2022-07-21T15:41:19.288797Z"
    }
   },
   "outputs": [
    {
     "data": {
      "text/html": [
       "<div>\n",
       "<style scoped>\n",
       "    .dataframe tbody tr th:only-of-type {\n",
       "        vertical-align: middle;\n",
       "    }\n",
       "\n",
       "    .dataframe tbody tr th {\n",
       "        vertical-align: top;\n",
       "    }\n",
       "\n",
       "    .dataframe thead th {\n",
       "        text-align: right;\n",
       "    }\n",
       "</style>\n",
       "<table border=\"1\" class=\"dataframe\">\n",
       "  <thead>\n",
       "    <tr style=\"text-align: right;\">\n",
       "      <th></th>\n",
       "      <th>Recency</th>\n",
       "      <th>Frequency</th>\n",
       "      <th>MonetaryValue</th>\n",
       "      <th>Cluster</th>\n",
       "    </tr>\n",
       "  </thead>\n",
       "  <tbody>\n",
       "    <tr>\n",
       "      <th>0</th>\n",
       "      <td>-2.195642</td>\n",
       "      <td>0.909521</td>\n",
       "      <td>1.482882</td>\n",
       "      <td>0</td>\n",
       "    </tr>\n",
       "    <tr>\n",
       "      <th>1</th>\n",
       "      <td>-2.684553</td>\n",
       "      <td>3.845050</td>\n",
       "      <td>3.022433</td>\n",
       "      <td>0</td>\n",
       "    </tr>\n",
       "    <tr>\n",
       "      <th>2</th>\n",
       "      <td>-1.706731</td>\n",
       "      <td>1.168000</td>\n",
       "      <td>1.331390</td>\n",
       "      <td>0</td>\n",
       "    </tr>\n",
       "    <tr>\n",
       "      <th>3</th>\n",
       "      <td>-1.909647</td>\n",
       "      <td>0.530005</td>\n",
       "      <td>0.487337</td>\n",
       "      <td>0</td>\n",
       "    </tr>\n",
       "    <tr>\n",
       "      <th>4</th>\n",
       "      <td>0.322128</td>\n",
       "      <td>0.008268</td>\n",
       "      <td>0.026297</td>\n",
       "      <td>2</td>\n",
       "    </tr>\n",
       "  </tbody>\n",
       "</table>\n",
       "</div>"
      ],
      "text/plain": [
       "    Recency  Frequency  MonetaryValue  Cluster\n",
       "0 -2.195642   0.909521       1.482882        0\n",
       "1 -2.684553   3.845050       3.022433        0\n",
       "2 -1.706731   1.168000       1.331390        0\n",
       "3 -1.909647   0.530005       0.487337        0\n",
       "4  0.322128   0.008268       0.026297        2"
      ]
     },
     "execution_count": 60,
     "metadata": {},
     "output_type": "execute_result"
    }
   ],
   "source": [
    "datamart_normalized.head()"
   ]
  },
  {
   "cell_type": "code",
   "execution_count": 65,
   "id": "9caa872c",
   "metadata": {
    "ExecuteTime": {
     "end_time": "2022-07-21T15:43:06.674211Z",
     "start_time": "2022-07-21T15:43:06.647390Z"
    }
   },
   "outputs": [
    {
     "data": {
      "text/html": [
       "<div>\n",
       "<style scoped>\n",
       "    .dataframe tbody tr th:only-of-type {\n",
       "        vertical-align: middle;\n",
       "    }\n",
       "\n",
       "    .dataframe tbody tr th {\n",
       "        vertical-align: top;\n",
       "    }\n",
       "\n",
       "    .dataframe thead th {\n",
       "        text-align: right;\n",
       "    }\n",
       "</style>\n",
       "<table border=\"1\" class=\"dataframe\">\n",
       "  <thead>\n",
       "    <tr style=\"text-align: right;\">\n",
       "      <th></th>\n",
       "      <th>Cluster</th>\n",
       "      <th>Attribute</th>\n",
       "      <th>Value</th>\n",
       "    </tr>\n",
       "  </thead>\n",
       "  <tbody>\n",
       "    <tr>\n",
       "      <th>0</th>\n",
       "      <td>0</td>\n",
       "      <td>Recency</td>\n",
       "      <td>-2.195642</td>\n",
       "    </tr>\n",
       "    <tr>\n",
       "      <th>1</th>\n",
       "      <td>0</td>\n",
       "      <td>Recency</td>\n",
       "      <td>-2.684553</td>\n",
       "    </tr>\n",
       "    <tr>\n",
       "      <th>2</th>\n",
       "      <td>0</td>\n",
       "      <td>Recency</td>\n",
       "      <td>-1.706731</td>\n",
       "    </tr>\n",
       "    <tr>\n",
       "      <th>3</th>\n",
       "      <td>0</td>\n",
       "      <td>Recency</td>\n",
       "      <td>-1.909647</td>\n",
       "    </tr>\n",
       "    <tr>\n",
       "      <th>4</th>\n",
       "      <td>2</td>\n",
       "      <td>Recency</td>\n",
       "      <td>0.322128</td>\n",
       "    </tr>\n",
       "    <tr>\n",
       "      <th>...</th>\n",
       "      <td>...</td>\n",
       "      <td>...</td>\n",
       "      <td>...</td>\n",
       "    </tr>\n",
       "    <tr>\n",
       "      <th>11098</th>\n",
       "      <td>1</td>\n",
       "      <td>MonetaryValue</td>\n",
       "      <td>-0.983925</td>\n",
       "    </tr>\n",
       "    <tr>\n",
       "      <th>11099</th>\n",
       "      <td>1</td>\n",
       "      <td>MonetaryValue</td>\n",
       "      <td>-1.133219</td>\n",
       "    </tr>\n",
       "    <tr>\n",
       "      <th>11100</th>\n",
       "      <td>1</td>\n",
       "      <td>MonetaryValue</td>\n",
       "      <td>-1.159983</td>\n",
       "    </tr>\n",
       "    <tr>\n",
       "      <th>11101</th>\n",
       "      <td>0</td>\n",
       "      <td>MonetaryValue</td>\n",
       "      <td>0.851890</td>\n",
       "    </tr>\n",
       "    <tr>\n",
       "      <th>11102</th>\n",
       "      <td>2</td>\n",
       "      <td>MonetaryValue</td>\n",
       "      <td>0.783644</td>\n",
       "    </tr>\n",
       "  </tbody>\n",
       "</table>\n",
       "<p>11103 rows × 3 columns</p>\n",
       "</div>"
      ],
      "text/plain": [
       "       Cluster      Attribute     Value\n",
       "0            0        Recency -2.195642\n",
       "1            0        Recency -2.684553\n",
       "2            0        Recency -1.706731\n",
       "3            0        Recency -1.909647\n",
       "4            2        Recency  0.322128\n",
       "...        ...            ...       ...\n",
       "11098        1  MonetaryValue -0.983925\n",
       "11099        1  MonetaryValue -1.133219\n",
       "11100        1  MonetaryValue -1.159983\n",
       "11101        0  MonetaryValue  0.851890\n",
       "11102        2  MonetaryValue  0.783644\n",
       "\n",
       "[11103 rows x 3 columns]"
      ]
     },
     "execution_count": 65,
     "metadata": {},
     "output_type": "execute_result"
    }
   ],
   "source": [
    "# Melt the data into a long format so RFM values and metric names are stored in 1 column each\n",
    "datamart_melt = pd.melt(datamart_normalized.reset_index(),\n",
    "                        id_vars=['Cluster'], # CustomerID is missing !\n",
    "                        value_vars=['Recency', 'Frequency', 'MonetaryValue'],\n",
    "                        var_name='Attribute',\n",
    "                        value_name='Value'\n",
    "                       )\n",
    "datamart_melt"
   ]
  },
  {
   "cell_type": "code",
   "execution_count": 69,
   "id": "cd7ab696",
   "metadata": {
    "ExecuteTime": {
     "end_time": "2022-07-21T15:45:26.335251Z",
     "start_time": "2022-07-21T15:45:25.834027Z"
    },
    "scrolled": true
   },
   "outputs": [
    {
     "data": {
      "image/png": "[encoded data removed]",
      "text/plain": [
       "<Figure size 432x288 with 1 Axes>"
      ]
     },
     "metadata": {
      "needs_background": "light"
     },
     "output_type": "display_data"
    }
   ],
   "source": [
    "# Snake plot\n",
    "plt.title('Snake plot of standardized variables')\n",
    "sns.lineplot(x='Attribute', y='Value', hue='Cluster', data=datamart_melt)\n",
    "plt.show()"
   ]
  },
  {
   "cell_type": "markdown",
   "id": "29d0fb1e",
   "metadata": {},
   "source": [
    "**Relative importance of segment attributes :**\n",
    "- Usefull technique to identify relative importance of each segment's attribute"
   ]
  },
  {
   "cell_type": "code",
   "execution_count": 70,
   "id": "e07a25ab",
   "metadata": {
    "ExecuteTime": {
     "end_time": "2022-07-21T15:51:23.540055Z",
     "start_time": "2022-07-21T15:51:23.528229Z"
    }
   },
   "outputs": [],
   "source": [
    "# Calculate average values of each cluster\n",
    "cluster_avg = datamart_RFM_k3.groupby(['Cluster']).mean()\n",
    "\n",
    "# Calculate average values of population\n",
    "population_avg = datamart_RFM.mean()\n",
    "\n",
    "# Calculate importance score by dividing them and substracting 1 (make sure 0 is returned whaen cluster average equals population average)\n",
    "relative_imp = cluster_avg / population_avg - 1"
   ]
  },
  {
   "cell_type": "markdown",
   "id": "cdd275df",
   "metadata": {},
   "source": [
    "**Analyze and plot relative importance :**\n",
    "- As a ratio moves away form 0, attribute importance for a segment (relative to a total pop) increases"
   ]
  },
  {
   "cell_type": "code",
   "execution_count": 71,
   "id": "48963dbb",
   "metadata": {
    "ExecuteTime": {
     "end_time": "2022-07-21T15:53:10.211233Z",
     "start_time": "2022-07-21T15:53:10.197380Z"
    }
   },
   "outputs": [
    {
     "data": {
      "text/html": [
       "<div>\n",
       "<style scoped>\n",
       "    .dataframe tbody tr th:only-of-type {\n",
       "        vertical-align: middle;\n",
       "    }\n",
       "\n",
       "    .dataframe tbody tr th {\n",
       "        vertical-align: top;\n",
       "    }\n",
       "\n",
       "    .dataframe thead th {\n",
       "        text-align: right;\n",
       "    }\n",
       "</style>\n",
       "<table border=\"1\" class=\"dataframe\">\n",
       "  <thead>\n",
       "    <tr style=\"text-align: right;\">\n",
       "      <th></th>\n",
       "      <th>Recency</th>\n",
       "      <th>Frequency</th>\n",
       "      <th>MonetaryValue</th>\n",
       "    </tr>\n",
       "    <tr>\n",
       "      <th>Cluster</th>\n",
       "      <th></th>\n",
       "      <th></th>\n",
       "      <th></th>\n",
       "    </tr>\n",
       "  </thead>\n",
       "  <tbody>\n",
       "    <tr>\n",
       "      <th>0</th>\n",
       "      <td>-0.85</td>\n",
       "      <td>1.75</td>\n",
       "      <td>1.96</td>\n",
       "    </tr>\n",
       "    <tr>\n",
       "      <th>1</th>\n",
       "      <td>0.82</td>\n",
       "      <td>-0.84</td>\n",
       "      <td>-0.85</td>\n",
       "    </tr>\n",
       "    <tr>\n",
       "      <th>2</th>\n",
       "      <td>-0.17</td>\n",
       "      <td>-0.29</td>\n",
       "      <td>-0.39</td>\n",
       "    </tr>\n",
       "  </tbody>\n",
       "</table>\n",
       "</div>"
      ],
      "text/plain": [
       "         Recency  Frequency  MonetaryValue\n",
       "Cluster                                   \n",
       "0          -0.85       1.75           1.96\n",
       "1           0.82      -0.84          -0.85\n",
       "2          -0.17      -0.29          -0.39"
      ]
     },
     "execution_count": 71,
     "metadata": {},
     "output_type": "execute_result"
    }
   ],
   "source": [
    "relative_imp.round(2)"
   ]
  },
  {
   "cell_type": "code",
   "execution_count": 73,
   "id": "16753440",
   "metadata": {
    "ExecuteTime": {
     "end_time": "2022-07-21T15:54:20.268167Z",
     "start_time": "2022-07-21T15:54:20.105864Z"
    }
   },
   "outputs": [
    {
     "data": {
      "image/png": "[encoded data removed]",
      "text/plain": [
       "<Figure size 576x144 with 2 Axes>"
      ]
     },
     "metadata": {
      "needs_background": "light"
     },
     "output_type": "display_data"
    }
   ],
   "source": [
    "# Plot heatmap\n",
    "plt.figure(figsize=(8,2))\n",
    "plt.title('Relative importance of attributes')\n",
    "sns.heatmap(data=relative_imp, annot=True, cmap='RdYlGn')\n",
    "plt.show()"
   ]
  },
  {
   "cell_type": "markdown",
   "id": "f665076c",
   "metadata": {},
   "source": [
    "# End to end segmentation solution"
   ]
  },
  {
   "cell_type": "markdown",
   "id": "8fcba4f3",
   "metadata": {},
   "source": [
    "Suite : https://campus.datacamp.com/courses/customer-segmentation-in-python/customer-segmentation-with-k-means?ex=12 "
   ]
  },
  {
   "cell_type": "code",
   "execution_count": null,
   "id": "5e591171",
   "metadata": {},
   "outputs": [],
   "source": []
  },
  {
   "cell_type": "code",
   "execution_count": null,
   "id": "5d1dc01e",
   "metadata": {},
   "outputs": [],
   "source": []
  },
  {
   "cell_type": "markdown",
   "id": "30620e88",
   "metadata": {},
   "source": [
    "# Final thoughts"
   ]
  },
  {
   "cell_type": "code",
   "execution_count": null,
   "id": "ed5bf46f",
   "metadata": {},
   "outputs": [],
   "source": []
  },
  {
   "cell_type": "code",
   "execution_count": null,
   "id": "cfcd113f",
   "metadata": {},
   "outputs": [],
   "source": []
  }
 ],
 "metadata": {
  "kernelspec": {
   "display_name": "Python 3 (ipykernel)",
   "language": "python",
   "name": "python3"
  },
  "language_info": {
   "codemirror_mode": {
    "name": "ipython",
    "version": 3
   },
   "file_extension": ".py",
   "mimetype": "text/x-python",
   "name": "python",
   "nbconvert_exporter": "python",
   "pygments_lexer": "ipython3",
   "version": "3.8.12"
  },
  "toc": {
   "base_numbering": 1,
   "nav_menu": {},
   "number_sections": true,
   "sideBar": true,
   "skip_h1_title": false,
   "title_cell": "Table of Contents",
   "title_sidebar": "Contents",
   "toc_cell": false,
   "toc_position": {},
   "toc_section_display": true,
   "toc_window_display": false
  }
 },
 "nbformat": 4,
 "nbformat_minor": 5
}
